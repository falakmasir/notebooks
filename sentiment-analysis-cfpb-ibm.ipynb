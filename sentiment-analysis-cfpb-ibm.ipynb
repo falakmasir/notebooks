{
 "cells": [
  {
   "cell_type": "code",
   "execution_count": 38,
   "metadata": {},
   "outputs": [],
   "source": [
    "import pandas as pd\n",
    "\n",
    "df = pd.read_csv('./Consumer_Complaints.csv').set_index('Complaint ID')"
   ]
  },
  {
   "cell_type": "code",
   "execution_count": 134,
   "metadata": {},
   "outputs": [],
   "source": [
    "import requests\n",
    "import json\n",
    "\n",
    "def getSentiment(text):\n",
    "    endpoint = \"https://gateway.watsonplatform.net/natural-language-understanding/api/v1/analyze\"\n",
    "\n",
    "    # You can register and get your own credentials\n",
    "    # The ones below have a quota of 1000 calls per day \n",
    "    # and can run out quickly if multiple people use these\n",
    "#     username = \"apikey\"\n",
    "#     password = \"your-api-key\"\n",
    "    username = 'apikey'\n",
    "    password = 'your-api-key'\n",
    "    \n",
    "    parameters = {\n",
    "        'features': 'emotion,sentiment',\n",
    "        'version' : '2018-11-16',\n",
    "        'text': text,\n",
    "        'language' : 'en',\n",
    "        # url = url_to_analyze, this is an alternative to sending the text\n",
    "    }\n",
    "\n",
    "    resp = requests.get(endpoint, params=parameters, auth=(username, password))\n",
    "    \n",
    "    return resp.json()"
   ]
  },
  {
   "cell_type": "code",
   "execution_count": 149,
   "metadata": {},
   "outputs": [],
   "source": [
    "# We will analyze the text below using the IBM Watson API\n",
    "\n",
    "text = '''\n",
    "I was given a credit of {$2000.00} with the Best Buy originally through City Bank. At a certain point they lowered my limit and this caused me to be over balance with them and have to pay extra fees. \\n\\nI was in college and the military at the time. This debt has been made whole with them. \\n\\nMy credit score was lower, their interest rate was high, they lowered my limit which increased my fees and made it difficult for me to pay them the amount they were asking. This was in XX/XX/XXXX and XX/XX/XXXX.\n",
    "'''"
   ]
  },
  {
   "cell_type": "code",
   "execution_count": 150,
   "metadata": {},
   "outputs": [
    {
     "data": {
      "text/plain": [
       "'I was given a credit of {$2000.00} with the Best Buy originally through City Bank. At a certain point they lowered my limit and this caused me to be over balance with them and have to pay extra fees. \\n\\nI was in college and the military at the time. This debt has been made whole with them. \\n\\nMy credit score was lower, their interest rate was high, they lowered my limit which increased my fees and made it difficult for me to pay them the amount they were asking. This was in XX/XX/XXXX and XX/XX/XXXX.'"
      ]
     },
     "execution_count": 150,
     "metadata": {},
     "output_type": "execute_result"
    }
   ],
   "source": [
    "ddf.loc[313, 'Consumer complaint narrative']"
   ]
  },
  {
   "cell_type": "code",
   "execution_count": 152,
   "metadata": {},
   "outputs": [
    {
     "data": {
      "text/plain": [
       "{'usage': {'text_units': 1, 'text_characters': 505, 'features': 2},\n",
       " 'sentiment': {'document': {'score': -0.391859, 'label': 'negative'}},\n",
       " 'language': 'en',\n",
       " 'emotion': {'document': {'emotion': {'sadness': 0.580831,\n",
       "    'joy': 0.498221,\n",
       "    'fear': 0.184361,\n",
       "    'disgust': 0.11723,\n",
       "    'anger': 0.155626}}}}"
      ]
     },
     "execution_count": 152,
     "metadata": {},
     "output_type": "execute_result"
    }
   ],
   "source": [
    "data = getSentiment(text)\n",
    "data"
   ]
  },
  {
   "cell_type": "code",
   "execution_count": 41,
   "metadata": {},
   "outputs": [],
   "source": [
    "df.dropna(subset=['Consumer complaint narrative'], inplace=True)"
   ]
  },
  {
   "cell_type": "code",
   "execution_count": 48,
   "metadata": {},
   "outputs": [],
   "source": [
    "df['len'] = df['Consumer complaint narrative'].apply(lambda x: len(x))"
   ]
  },
  {
   "cell_type": "code",
   "execution_count": 52,
   "metadata": {},
   "outputs": [
    {
     "data": {
      "text/plain": [
       "<matplotlib.axes._subplots.AxesSubplot at 0x12300b690>"
      ]
     },
     "execution_count": 52,
     "metadata": {},
     "output_type": "execute_result"
    },
    {
     "data": {
      "image/png": "[encoded data removed]",
      "text/plain": [
       "<Figure size 432x288 with 1 Axes>"
      ]
     },
     "metadata": {
      "needs_background": "light"
     },
     "output_type": "display_data"
    }
   ],
   "source": [
    "%matplotlib inline\n",
    "\n",
    "df['len'].hist(bins=range(0,5000, 100))"
   ]
  },
  {
   "cell_type": "code",
   "execution_count": 54,
   "metadata": {},
   "outputs": [],
   "source": [
    "ddf = df.sample(n=1000).reset_index()"
   ]
  },
  {
   "cell_type": "code",
   "execution_count": 86,
   "metadata": {},
   "outputs": [
    {
     "ename": "KeyboardInterrupt",
     "evalue": "",
     "output_type": "error",
     "traceback": [
      "\u001b[0;31m---------------------------------------------------------------------------\u001b[0m",
      "\u001b[0;31mKeyboardInterrupt\u001b[0m                         Traceback (most recent call last)",
      "\u001b[0;32m<ipython-input-86-d10876a49186>\u001b[0m in \u001b[0;36m<module>\u001b[0;34m\u001b[0m\n\u001b[1;32m      1\u001b[0m \u001b[0mresults\u001b[0m \u001b[0;34m=\u001b[0m \u001b[0;34m[\u001b[0m\u001b[0;34m]\u001b[0m\u001b[0;34m\u001b[0m\u001b[0;34m\u001b[0m\u001b[0m\n\u001b[1;32m      2\u001b[0m \u001b[0;34m\u001b[0m\u001b[0m\n\u001b[0;32m----> 3\u001b[0;31m \u001b[0;32mfor\u001b[0m \u001b[0mix\u001b[0m\u001b[0;34m,\u001b[0m \u001b[0mrow\u001b[0m \u001b[0;32min\u001b[0m \u001b[0mdf\u001b[0m\u001b[0;34m.\u001b[0m\u001b[0miterrows\u001b[0m\u001b[0;34m(\u001b[0m\u001b[0;34m)\u001b[0m\u001b[0;34m:\u001b[0m\u001b[0;34m\u001b[0m\u001b[0;34m\u001b[0m\u001b[0m\n\u001b[0m\u001b[1;32m      4\u001b[0m     \u001b[0;32mtry\u001b[0m\u001b[0;34m:\u001b[0m\u001b[0;34m\u001b[0m\u001b[0;34m\u001b[0m\u001b[0m\n\u001b[1;32m      5\u001b[0m         \u001b[0mtext\u001b[0m \u001b[0;34m=\u001b[0m \u001b[0mrow\u001b[0m\u001b[0;34m[\u001b[0m\u001b[0;34m'Consumer complaint narrative'\u001b[0m\u001b[0;34m]\u001b[0m\u001b[0;34m\u001b[0m\u001b[0;34m\u001b[0m\u001b[0m\n",
      "\u001b[0;32m~/Documents/WorkingPapers/Wells Fargo/WF/lib/python3.7/site-packages/pandas/core/frame.py\u001b[0m in \u001b[0;36miterrows\u001b[0;34m(self)\u001b[0m\n\u001b[1;32m    907\u001b[0m         \u001b[0mklass\u001b[0m \u001b[0;34m=\u001b[0m \u001b[0mself\u001b[0m\u001b[0;34m.\u001b[0m\u001b[0m_constructor_sliced\u001b[0m\u001b[0;34m\u001b[0m\u001b[0;34m\u001b[0m\u001b[0m\n\u001b[1;32m    908\u001b[0m         \u001b[0;32mfor\u001b[0m \u001b[0mk\u001b[0m\u001b[0;34m,\u001b[0m \u001b[0mv\u001b[0m \u001b[0;32min\u001b[0m \u001b[0mzip\u001b[0m\u001b[0;34m(\u001b[0m\u001b[0mself\u001b[0m\u001b[0;34m.\u001b[0m\u001b[0mindex\u001b[0m\u001b[0;34m,\u001b[0m \u001b[0mself\u001b[0m\u001b[0;34m.\u001b[0m\u001b[0mvalues\u001b[0m\u001b[0;34m)\u001b[0m\u001b[0;34m:\u001b[0m\u001b[0;34m\u001b[0m\u001b[0;34m\u001b[0m\u001b[0m\n\u001b[0;32m--> 909\u001b[0;31m             \u001b[0ms\u001b[0m \u001b[0;34m=\u001b[0m \u001b[0mklass\u001b[0m\u001b[0;34m(\u001b[0m\u001b[0mv\u001b[0m\u001b[0;34m,\u001b[0m \u001b[0mindex\u001b[0m\u001b[0;34m=\u001b[0m\u001b[0mcolumns\u001b[0m\u001b[0;34m,\u001b[0m \u001b[0mname\u001b[0m\u001b[0;34m=\u001b[0m\u001b[0mk\u001b[0m\u001b[0;34m)\u001b[0m\u001b[0;34m\u001b[0m\u001b[0;34m\u001b[0m\u001b[0m\n\u001b[0m\u001b[1;32m    910\u001b[0m             \u001b[0;32myield\u001b[0m \u001b[0mk\u001b[0m\u001b[0;34m,\u001b[0m \u001b[0ms\u001b[0m\u001b[0;34m\u001b[0m\u001b[0;34m\u001b[0m\u001b[0m\n\u001b[1;32m    911\u001b[0m \u001b[0;34m\u001b[0m\u001b[0m\n",
      "\u001b[0;32m~/Documents/WorkingPapers/Wells Fargo/WF/lib/python3.7/site-packages/pandas/core/series.py\u001b[0m in \u001b[0;36m__init__\u001b[0;34m(self, data, index, dtype, name, copy, fastpath)\u001b[0m\n\u001b[1;32m    292\u001b[0m                     \u001b[0mdata\u001b[0m \u001b[0;34m=\u001b[0m \u001b[0;34m[\u001b[0m\u001b[0mdata\u001b[0m\u001b[0;34m]\u001b[0m\u001b[0;34m\u001b[0m\u001b[0;34m\u001b[0m\u001b[0m\n\u001b[1;32m    293\u001b[0m                 \u001b[0mindex\u001b[0m \u001b[0;34m=\u001b[0m \u001b[0mibase\u001b[0m\u001b[0;34m.\u001b[0m\u001b[0mdefault_index\u001b[0m\u001b[0;34m(\u001b[0m\u001b[0mlen\u001b[0m\u001b[0;34m(\u001b[0m\u001b[0mdata\u001b[0m\u001b[0;34m)\u001b[0m\u001b[0;34m)\u001b[0m\u001b[0;34m\u001b[0m\u001b[0;34m\u001b[0m\u001b[0m\n\u001b[0;32m--> 294\u001b[0;31m             \u001b[0;32melif\u001b[0m \u001b[0mis_list_like\u001b[0m\u001b[0;34m(\u001b[0m\u001b[0mdata\u001b[0m\u001b[0;34m)\u001b[0m\u001b[0;34m:\u001b[0m\u001b[0;34m\u001b[0m\u001b[0;34m\u001b[0m\u001b[0m\n\u001b[0m\u001b[1;32m    295\u001b[0m \u001b[0;34m\u001b[0m\u001b[0m\n\u001b[1;32m    296\u001b[0m                 \u001b[0;31m# a scalar numpy array is list-like but doesn't\u001b[0m\u001b[0;34m\u001b[0m\u001b[0;34m\u001b[0m\u001b[0;34m\u001b[0m\u001b[0m\n",
      "\u001b[0;31mKeyboardInterrupt\u001b[0m: "
     ]
    }
   ],
   "source": [
    "results = []\n",
    "\n",
    "for ix, row in df.iterrows():\n",
    "    try:\n",
    "        text = row['Consumer complaint narrative']\n",
    "        st = dict(getSentiment(text))\n",
    "        st['text'] = text\n",
    "        st['id'] = ix\n",
    "        results.append(st)\n",
    "    except:\n",
    "        continue"
   ]
  },
  {
   "cell_type": "code",
   "execution_count": 139,
   "metadata": {},
   "outputs": [
    {
     "data": {
      "text/plain": [
       "52522"
      ]
     },
     "execution_count": 139,
     "metadata": {},
     "output_type": "execute_result"
    }
   ],
   "source": [
    "len(results)"
   ]
  },
  {
   "cell_type": "code",
   "execution_count": 140,
   "metadata": {},
   "outputs": [],
   "source": [
    "re = pd.DataFrame(results)"
   ]
  },
  {
   "cell_type": "code",
   "execution_count": 143,
   "metadata": {},
   "outputs": [
    {
     "data": {
      "text/html": [
       "<div>\n",
       "<style scoped>\n",
       "    .dataframe tbody tr th:only-of-type {\n",
       "        vertical-align: middle;\n",
       "    }\n",
       "\n",
       "    .dataframe tbody tr th {\n",
       "        vertical-align: top;\n",
       "    }\n",
       "\n",
       "    .dataframe thead th {\n",
       "        text-align: right;\n",
       "    }\n",
       "</style>\n",
       "<table border=\"1\" class=\"dataframe\">\n",
       "  <thead>\n",
       "    <tr style=\"text-align: right;\">\n",
       "      <th></th>\n",
       "      <th>usage</th>\n",
       "      <th>sentiment</th>\n",
       "      <th>language</th>\n",
       "      <th>emotion</th>\n",
       "      <th>text</th>\n",
       "      <th>id</th>\n",
       "      <th>code</th>\n",
       "      <th>error</th>\n",
       "    </tr>\n",
       "  </thead>\n",
       "  <tbody>\n",
       "    <tr>\n",
       "      <th>52517</th>\n",
       "      <td>NaN</td>\n",
       "      <td>NaN</td>\n",
       "      <td>NaN</td>\n",
       "      <td>NaN</td>\n",
       "      <td>Hello I check my credit and I see there a auto...</td>\n",
       "      <td>3210883</td>\n",
       "      <td>403.0</td>\n",
       "      <td>Forbidden</td>\n",
       "    </tr>\n",
       "    <tr>\n",
       "      <th>52518</th>\n",
       "      <td>NaN</td>\n",
       "      <td>NaN</td>\n",
       "      <td>NaN</td>\n",
       "      <td>NaN</td>\n",
       "      <td>Portfolio Recovery Associates has purchased an...</td>\n",
       "      <td>3210880</td>\n",
       "      <td>403.0</td>\n",
       "      <td>Forbidden</td>\n",
       "    </tr>\n",
       "    <tr>\n",
       "      <th>52519</th>\n",
       "      <td>NaN</td>\n",
       "      <td>NaN</td>\n",
       "      <td>NaN</td>\n",
       "      <td>NaN</td>\n",
       "      <td>On XX/XX/2019 and XX/XX/2019 I made payments t...</td>\n",
       "      <td>3210322</td>\n",
       "      <td>403.0</td>\n",
       "      <td>Forbidden</td>\n",
       "    </tr>\n",
       "    <tr>\n",
       "      <th>52520</th>\n",
       "      <td>NaN</td>\n",
       "      <td>NaN</td>\n",
       "      <td>NaN</td>\n",
       "      <td>NaN</td>\n",
       "      <td>TRANSUNION HAS NOT LET ME DISPUTE CLAIMS ON MY...</td>\n",
       "      <td>3210821</td>\n",
       "      <td>403.0</td>\n",
       "      <td>Forbidden</td>\n",
       "    </tr>\n",
       "    <tr>\n",
       "      <th>52521</th>\n",
       "      <td>NaN</td>\n",
       "      <td>NaN</td>\n",
       "      <td>NaN</td>\n",
       "      <td>NaN</td>\n",
       "      <td>I never received a mail notice that I could di...</td>\n",
       "      <td>3210918</td>\n",
       "      <td>403.0</td>\n",
       "      <td>Forbidden</td>\n",
       "    </tr>\n",
       "  </tbody>\n",
       "</table>\n",
       "</div>"
      ],
      "text/plain": [
       "      usage sentiment language emotion  \\\n",
       "52517   NaN       NaN      NaN     NaN   \n",
       "52518   NaN       NaN      NaN     NaN   \n",
       "52519   NaN       NaN      NaN     NaN   \n",
       "52520   NaN       NaN      NaN     NaN   \n",
       "52521   NaN       NaN      NaN     NaN   \n",
       "\n",
       "                                                    text       id   code  \\\n",
       "52517  Hello I check my credit and I see there a auto...  3210883  403.0   \n",
       "52518  Portfolio Recovery Associates has purchased an...  3210880  403.0   \n",
       "52519  On XX/XX/2019 and XX/XX/2019 I made payments t...  3210322  403.0   \n",
       "52520  TRANSUNION HAS NOT LET ME DISPUTE CLAIMS ON MY...  3210821  403.0   \n",
       "52521  I never received a mail notice that I could di...  3210918  403.0   \n",
       "\n",
       "           error  \n",
       "52517  Forbidden  \n",
       "52518  Forbidden  \n",
       "52519  Forbidden  \n",
       "52520  Forbidden  \n",
       "52521  Forbidden  "
      ]
     },
     "execution_count": 143,
     "metadata": {},
     "output_type": "execute_result"
    }
   ],
   "source": [
    "re.tail()"
   ]
  },
  {
   "cell_type": "code",
   "execution_count": 146,
   "metadata": {},
   "outputs": [
    {
     "ename": "KeyboardInterrupt",
     "evalue": "",
     "output_type": "error",
     "traceback": [
      "\u001b[0;31m---------------------------------------------------------------------------\u001b[0m",
      "\u001b[0;31mKeyboardInterrupt\u001b[0m                         Traceback (most recent call last)",
      "\u001b[0;32m<ipython-input-146-4189d4d48b8b>\u001b[0m in \u001b[0;36m<module>\u001b[0;34m\u001b[0m\n\u001b[0;32m----> 1\u001b[0;31m \u001b[0;32mfor\u001b[0m \u001b[0mix\u001b[0m\u001b[0;34m,\u001b[0m \u001b[0mrow\u001b[0m \u001b[0;32min\u001b[0m \u001b[0mre\u001b[0m\u001b[0;34m[\u001b[0m\u001b[0mre\u001b[0m\u001b[0;34m[\u001b[0m\u001b[0;34m'code'\u001b[0m\u001b[0;34m]\u001b[0m \u001b[0;34m==\u001b[0m \u001b[0;36m403.0\u001b[0m\u001b[0;34m]\u001b[0m\u001b[0;34m.\u001b[0m\u001b[0miterrows\u001b[0m\u001b[0;34m(\u001b[0m\u001b[0;34m)\u001b[0m\u001b[0;34m:\u001b[0m\u001b[0;34m\u001b[0m\u001b[0;34m\u001b[0m\u001b[0m\n\u001b[0m\u001b[1;32m      2\u001b[0m     \u001b[0;32mtry\u001b[0m\u001b[0;34m:\u001b[0m\u001b[0;34m\u001b[0m\u001b[0;34m\u001b[0m\u001b[0m\n\u001b[1;32m      3\u001b[0m         \u001b[0mtext\u001b[0m \u001b[0;34m=\u001b[0m \u001b[0mrow\u001b[0m\u001b[0;34m[\u001b[0m\u001b[0;34m'text'\u001b[0m\u001b[0;34m]\u001b[0m\u001b[0;34m\u001b[0m\u001b[0;34m\u001b[0m\u001b[0m\n\u001b[1;32m      4\u001b[0m         \u001b[0mst\u001b[0m \u001b[0;34m=\u001b[0m \u001b[0mdict\u001b[0m\u001b[0;34m(\u001b[0m\u001b[0mgetSentiment\u001b[0m\u001b[0;34m(\u001b[0m\u001b[0mtext\u001b[0m\u001b[0;34m)\u001b[0m\u001b[0;34m)\u001b[0m\u001b[0;34m\u001b[0m\u001b[0;34m\u001b[0m\u001b[0m\n\u001b[1;32m      5\u001b[0m         \u001b[0;32mif\u001b[0m \u001b[0mst\u001b[0m\u001b[0;34m[\u001b[0m\u001b[0;34m'code'\u001b[0m\u001b[0;34m]\u001b[0m \u001b[0;34m==\u001b[0m \u001b[0;36m403.0\u001b[0m\u001b[0;34m:\u001b[0m\u001b[0;34m\u001b[0m\u001b[0;34m\u001b[0m\u001b[0m\n",
      "\u001b[0;32m~/Documents/WorkingPapers/Wells Fargo/WF/lib/python3.7/site-packages/pandas/core/frame.py\u001b[0m in \u001b[0;36miterrows\u001b[0;34m(self)\u001b[0m\n\u001b[1;32m    907\u001b[0m         \u001b[0mklass\u001b[0m \u001b[0;34m=\u001b[0m \u001b[0mself\u001b[0m\u001b[0;34m.\u001b[0m\u001b[0m_constructor_sliced\u001b[0m\u001b[0;34m\u001b[0m\u001b[0;34m\u001b[0m\u001b[0m\n\u001b[1;32m    908\u001b[0m         \u001b[0;32mfor\u001b[0m \u001b[0mk\u001b[0m\u001b[0;34m,\u001b[0m \u001b[0mv\u001b[0m \u001b[0;32min\u001b[0m \u001b[0mzip\u001b[0m\u001b[0;34m(\u001b[0m\u001b[0mself\u001b[0m\u001b[0;34m.\u001b[0m\u001b[0mindex\u001b[0m\u001b[0;34m,\u001b[0m \u001b[0mself\u001b[0m\u001b[0;34m.\u001b[0m\u001b[0mvalues\u001b[0m\u001b[0;34m)\u001b[0m\u001b[0;34m:\u001b[0m\u001b[0;34m\u001b[0m\u001b[0;34m\u001b[0m\u001b[0m\n\u001b[0;32m--> 909\u001b[0;31m             \u001b[0ms\u001b[0m \u001b[0;34m=\u001b[0m \u001b[0mklass\u001b[0m\u001b[0;34m(\u001b[0m\u001b[0mv\u001b[0m\u001b[0;34m,\u001b[0m \u001b[0mindex\u001b[0m\u001b[0;34m=\u001b[0m\u001b[0mcolumns\u001b[0m\u001b[0;34m,\u001b[0m \u001b[0mname\u001b[0m\u001b[0;34m=\u001b[0m\u001b[0mk\u001b[0m\u001b[0;34m)\u001b[0m\u001b[0;34m\u001b[0m\u001b[0;34m\u001b[0m\u001b[0m\n\u001b[0m\u001b[1;32m    910\u001b[0m             \u001b[0;32myield\u001b[0m \u001b[0mk\u001b[0m\u001b[0;34m,\u001b[0m \u001b[0ms\u001b[0m\u001b[0;34m\u001b[0m\u001b[0;34m\u001b[0m\u001b[0m\n\u001b[1;32m    911\u001b[0m \u001b[0;34m\u001b[0m\u001b[0m\n",
      "\u001b[0;32m~/Documents/WorkingPapers/Wells Fargo/WF/lib/python3.7/site-packages/pandas/core/series.py\u001b[0m in \u001b[0;36m__init__\u001b[0;34m(self, data, index, dtype, name, copy, fastpath)\u001b[0m\n\u001b[1;32m    312\u001b[0m                     \u001b[0mdata\u001b[0m \u001b[0;34m=\u001b[0m \u001b[0mdata\u001b[0m\u001b[0;34m.\u001b[0m\u001b[0mcopy\u001b[0m\u001b[0;34m(\u001b[0m\u001b[0;34m)\u001b[0m\u001b[0;34m\u001b[0m\u001b[0;34m\u001b[0m\u001b[0m\n\u001b[1;32m    313\u001b[0m             \u001b[0;32melse\u001b[0m\u001b[0;34m:\u001b[0m\u001b[0;34m\u001b[0m\u001b[0;34m\u001b[0m\u001b[0m\n\u001b[0;32m--> 314\u001b[0;31m                 \u001b[0mdata\u001b[0m \u001b[0;34m=\u001b[0m \u001b[0msanitize_array\u001b[0m\u001b[0;34m(\u001b[0m\u001b[0mdata\u001b[0m\u001b[0;34m,\u001b[0m \u001b[0mindex\u001b[0m\u001b[0;34m,\u001b[0m \u001b[0mdtype\u001b[0m\u001b[0;34m,\u001b[0m \u001b[0mcopy\u001b[0m\u001b[0;34m,\u001b[0m \u001b[0mraise_cast_failure\u001b[0m\u001b[0;34m=\u001b[0m\u001b[0;32mTrue\u001b[0m\u001b[0;34m)\u001b[0m\u001b[0;34m\u001b[0m\u001b[0;34m\u001b[0m\u001b[0m\n\u001b[0m\u001b[1;32m    315\u001b[0m \u001b[0;34m\u001b[0m\u001b[0m\n\u001b[1;32m    316\u001b[0m                 \u001b[0mdata\u001b[0m \u001b[0;34m=\u001b[0m \u001b[0mSingleBlockManager\u001b[0m\u001b[0;34m(\u001b[0m\u001b[0mdata\u001b[0m\u001b[0;34m,\u001b[0m \u001b[0mindex\u001b[0m\u001b[0;34m,\u001b[0m \u001b[0mfastpath\u001b[0m\u001b[0;34m=\u001b[0m\u001b[0;32mTrue\u001b[0m\u001b[0;34m)\u001b[0m\u001b[0;34m\u001b[0m\u001b[0;34m\u001b[0m\u001b[0m\n",
      "\u001b[0;32m~/Documents/WorkingPapers/Wells Fargo/WF/lib/python3.7/site-packages/pandas/core/internals/construction.py\u001b[0m in \u001b[0;36msanitize_array\u001b[0;34m(data, index, dtype, copy, raise_cast_failure)\u001b[0m\n\u001b[1;32m    662\u001b[0m         \u001b[0;32melse\u001b[0m\u001b[0;34m:\u001b[0m\u001b[0;34m\u001b[0m\u001b[0;34m\u001b[0m\u001b[0m\n\u001b[1;32m    663\u001b[0m             \u001b[0;31m# we will try to copy be-definition here\u001b[0m\u001b[0;34m\u001b[0m\u001b[0;34m\u001b[0m\u001b[0;34m\u001b[0m\u001b[0m\n\u001b[0;32m--> 664\u001b[0;31m             \u001b[0msubarr\u001b[0m \u001b[0;34m=\u001b[0m \u001b[0m_try_cast\u001b[0m\u001b[0;34m(\u001b[0m\u001b[0mdata\u001b[0m\u001b[0;34m,\u001b[0m \u001b[0mdtype\u001b[0m\u001b[0;34m,\u001b[0m \u001b[0mcopy\u001b[0m\u001b[0;34m,\u001b[0m \u001b[0mraise_cast_failure\u001b[0m\u001b[0;34m)\u001b[0m\u001b[0;34m\u001b[0m\u001b[0;34m\u001b[0m\u001b[0m\n\u001b[0m\u001b[1;32m    665\u001b[0m \u001b[0;34m\u001b[0m\u001b[0m\n\u001b[1;32m    666\u001b[0m     \u001b[0;32melif\u001b[0m \u001b[0misinstance\u001b[0m\u001b[0;34m(\u001b[0m\u001b[0mdata\u001b[0m\u001b[0;34m,\u001b[0m \u001b[0mExtensionArray\u001b[0m\u001b[0;34m)\u001b[0m\u001b[0;34m:\u001b[0m\u001b[0;34m\u001b[0m\u001b[0;34m\u001b[0m\u001b[0m\n",
      "\u001b[0;32m~/Documents/WorkingPapers/Wells Fargo/WF/lib/python3.7/site-packages/pandas/core/internals/construction.py\u001b[0m in \u001b[0;36m_try_cast\u001b[0;34m(arr, dtype, copy, raise_cast_failure)\u001b[0m\n\u001b[1;32m    790\u001b[0m         ):\n\u001b[1;32m    791\u001b[0m             \u001b[0msubarr\u001b[0m \u001b[0;34m=\u001b[0m \u001b[0mconstruct_1d_object_array_from_listlike\u001b[0m\u001b[0;34m(\u001b[0m\u001b[0msubarr\u001b[0m\u001b[0;34m)\u001b[0m\u001b[0;34m\u001b[0m\u001b[0;34m\u001b[0m\u001b[0m\n\u001b[0;32m--> 792\u001b[0;31m         \u001b[0;32melif\u001b[0m \u001b[0;32mnot\u001b[0m \u001b[0mis_extension_type\u001b[0m\u001b[0;34m(\u001b[0m\u001b[0msubarr\u001b[0m\u001b[0;34m)\u001b[0m\u001b[0;34m:\u001b[0m\u001b[0;34m\u001b[0m\u001b[0;34m\u001b[0m\u001b[0m\n\u001b[0m\u001b[1;32m    793\u001b[0m             \u001b[0msubarr\u001b[0m \u001b[0;34m=\u001b[0m \u001b[0mconstruct_1d_ndarray_preserving_na\u001b[0m\u001b[0;34m(\u001b[0m\u001b[0msubarr\u001b[0m\u001b[0;34m,\u001b[0m \u001b[0mdtype\u001b[0m\u001b[0;34m,\u001b[0m \u001b[0mcopy\u001b[0m\u001b[0;34m=\u001b[0m\u001b[0mcopy\u001b[0m\u001b[0;34m)\u001b[0m\u001b[0;34m\u001b[0m\u001b[0;34m\u001b[0m\u001b[0m\n\u001b[1;32m    794\u001b[0m     \u001b[0;32mexcept\u001b[0m \u001b[0mOutOfBoundsDatetime\u001b[0m\u001b[0;34m:\u001b[0m\u001b[0;34m\u001b[0m\u001b[0;34m\u001b[0m\u001b[0m\n",
      "\u001b[0;32m~/Documents/WorkingPapers/Wells Fargo/WF/lib/python3.7/site-packages/pandas/core/dtypes/common.py\u001b[0m in \u001b[0;36mis_extension_type\u001b[0;34m(arr)\u001b[0m\n\u001b[1;32m   1732\u001b[0m     \"\"\"\n\u001b[1;32m   1733\u001b[0m \u001b[0;34m\u001b[0m\u001b[0m\n\u001b[0;32m-> 1734\u001b[0;31m     \u001b[0;32mif\u001b[0m \u001b[0mis_categorical\u001b[0m\u001b[0;34m(\u001b[0m\u001b[0marr\u001b[0m\u001b[0;34m)\u001b[0m\u001b[0;34m:\u001b[0m\u001b[0;34m\u001b[0m\u001b[0;34m\u001b[0m\u001b[0m\n\u001b[0m\u001b[1;32m   1735\u001b[0m         \u001b[0;32mreturn\u001b[0m \u001b[0;32mTrue\u001b[0m\u001b[0;34m\u001b[0m\u001b[0;34m\u001b[0m\u001b[0m\n\u001b[1;32m   1736\u001b[0m     \u001b[0;32melif\u001b[0m \u001b[0mis_sparse\u001b[0m\u001b[0;34m(\u001b[0m\u001b[0marr\u001b[0m\u001b[0;34m)\u001b[0m\u001b[0;34m:\u001b[0m\u001b[0;34m\u001b[0m\u001b[0;34m\u001b[0m\u001b[0m\n",
      "\u001b[0;32m~/Documents/WorkingPapers/Wells Fargo/WF/lib/python3.7/site-packages/pandas/core/dtypes/common.py\u001b[0m in \u001b[0;36mis_categorical\u001b[0;34m(arr)\u001b[0m\n\u001b[1;32m    385\u001b[0m     \"\"\"\n\u001b[1;32m    386\u001b[0m \u001b[0;34m\u001b[0m\u001b[0m\n\u001b[0;32m--> 387\u001b[0;31m     \u001b[0;32mreturn\u001b[0m \u001b[0misinstance\u001b[0m\u001b[0;34m(\u001b[0m\u001b[0marr\u001b[0m\u001b[0;34m,\u001b[0m \u001b[0mABCCategorical\u001b[0m\u001b[0;34m)\u001b[0m \u001b[0;32mor\u001b[0m \u001b[0mis_categorical_dtype\u001b[0m\u001b[0;34m(\u001b[0m\u001b[0marr\u001b[0m\u001b[0;34m)\u001b[0m\u001b[0;34m\u001b[0m\u001b[0;34m\u001b[0m\u001b[0m\n\u001b[0m\u001b[1;32m    388\u001b[0m \u001b[0;34m\u001b[0m\u001b[0m\n\u001b[1;32m    389\u001b[0m \u001b[0;34m\u001b[0m\u001b[0m\n",
      "\u001b[0;32m~/Documents/WorkingPapers/Wells Fargo/WF/lib/python3.7/site-packages/pandas/core/dtypes/common.py\u001b[0m in \u001b[0;36mis_categorical_dtype\u001b[0;34m(arr_or_dtype)\u001b[0m\n\u001b[1;32m    706\u001b[0m     \u001b[0;32mif\u001b[0m \u001b[0marr_or_dtype\u001b[0m \u001b[0;32mis\u001b[0m \u001b[0;32mNone\u001b[0m\u001b[0;34m:\u001b[0m\u001b[0;34m\u001b[0m\u001b[0;34m\u001b[0m\u001b[0m\n\u001b[1;32m    707\u001b[0m         \u001b[0;32mreturn\u001b[0m \u001b[0;32mFalse\u001b[0m\u001b[0;34m\u001b[0m\u001b[0;34m\u001b[0m\u001b[0m\n\u001b[0;32m--> 708\u001b[0;31m     \u001b[0;32mreturn\u001b[0m \u001b[0mCategoricalDtype\u001b[0m\u001b[0;34m.\u001b[0m\u001b[0mis_dtype\u001b[0m\u001b[0;34m(\u001b[0m\u001b[0marr_or_dtype\u001b[0m\u001b[0;34m)\u001b[0m\u001b[0;34m\u001b[0m\u001b[0;34m\u001b[0m\u001b[0m\n\u001b[0m\u001b[1;32m    709\u001b[0m \u001b[0;34m\u001b[0m\u001b[0m\n\u001b[1;32m    710\u001b[0m \u001b[0;34m\u001b[0m\u001b[0m\n",
      "\u001b[0;31mKeyboardInterrupt\u001b[0m: "
     ]
    }
   ],
   "source": [
    "for ix, row in re[re['code'] == 403.0].iterrows():\n",
    "    try:\n",
    "        text = row['text']\n",
    "        st = dict(getSentiment(text))\n",
    "        if st['code'] == 403.0:\n",
    "            break\n",
    "        re.loc[ix, 'usage'] = st['usage']\n",
    "        re.loc[ix, 'sentiment'] = st['sentiment']\n",
    "        re.loc[ix, 'language'] = st['language']\n",
    "        re.loc[ix, 'emotion'] = st['emotion']\n",
    "        re.loc[ix, 'code'] = st['code']\n",
    "        re.loc[ix, 'error'] = st['error']\n",
    "    except:\n",
    "        continue\n",
    "    if ix / 100 == 0:\n",
    "        print(ix)"
   ]
  },
  {
   "cell_type": "code",
   "execution_count": 153,
   "metadata": {},
   "outputs": [],
   "source": [
    "re = re[re['code'] != 403].reset_index(drop=True)"
   ]
  },
  {
   "cell_type": "code",
   "execution_count": 154,
   "metadata": {},
   "outputs": [
    {
     "data": {
      "text/plain": [
       "{'document': {'emotion': {'sadness': 0.181185,\n",
       "   'joy': 0.019271,\n",
       "   'fear': 0.242187,\n",
       "   'disgust': 0.132534,\n",
       "   'anger': 0.204294}}}"
      ]
     },
     "execution_count": 154,
     "metadata": {},
     "output_type": "execute_result"
    }
   ],
   "source": [
    "re.loc[0, 'emotion']"
   ]
  },
  {
   "cell_type": "code",
   "execution_count": 155,
   "metadata": {},
   "outputs": [],
   "source": [
    "re['sentiment_label'] = re['sentiment'].apply(lambda x: x['document']['label'])\n",
    "re['sentiment_score'] = re['sentiment'].apply(lambda x: x['document']['score'])"
   ]
  },
  {
   "cell_type": "code",
   "execution_count": 156,
   "metadata": {},
   "outputs": [],
   "source": [
    "re['sadness'] = re['emotion'].apply(lambda x: x['document']['emotion']['sadness'])\n",
    "re['joy'] = re['emotion'].apply(lambda x: x['document']['emotion']['joy'])\n",
    "re['fear'] = re['emotion'].apply(lambda x: x['document']['emotion']['fear'])\n",
    "re['disgust'] = re['emotion'].apply(lambda x: x['document']['emotion']['disgust'])\n",
    "re['anger'] = re['emotion'].apply(lambda x: x['document']['emotion']['anger'])"
   ]
  },
  {
   "cell_type": "code",
   "execution_count": 157,
   "metadata": {},
   "outputs": [
    {
     "data": {
      "text/plain": [
       "sentiment_label\n",
       "negative    17563\n",
       "neutral       385\n",
       "positive      829\n",
       "dtype: int64"
      ]
     },
     "execution_count": 157,
     "metadata": {},
     "output_type": "execute_result"
    }
   ],
   "source": [
    "re.groupby('sentiment_label').size()"
   ]
  },
  {
   "cell_type": "code",
   "execution_count": 158,
   "metadata": {},
   "outputs": [
    {
     "data": {
      "text/html": [
       "<div>\n",
       "<style scoped>\n",
       "    .dataframe tbody tr th:only-of-type {\n",
       "        vertical-align: middle;\n",
       "    }\n",
       "\n",
       "    .dataframe tbody tr th {\n",
       "        vertical-align: top;\n",
       "    }\n",
       "\n",
       "    .dataframe thead th {\n",
       "        text-align: right;\n",
       "    }\n",
       "</style>\n",
       "<table border=\"1\" class=\"dataframe\">\n",
       "  <thead>\n",
       "    <tr style=\"text-align: right;\">\n",
       "      <th></th>\n",
       "      <th>usage</th>\n",
       "      <th>sentiment</th>\n",
       "      <th>language</th>\n",
       "      <th>emotion</th>\n",
       "      <th>text</th>\n",
       "      <th>id</th>\n",
       "      <th>code</th>\n",
       "      <th>error</th>\n",
       "      <th>sentiment_label</th>\n",
       "      <th>sentiment_score</th>\n",
       "      <th>sadness</th>\n",
       "      <th>joy</th>\n",
       "      <th>fear</th>\n",
       "      <th>disgust</th>\n",
       "      <th>anger</th>\n",
       "    </tr>\n",
       "  </thead>\n",
       "  <tbody>\n",
       "    <tr>\n",
       "      <th>13</th>\n",
       "      <td>{'text_units': 1, 'text_characters': 606, 'fea...</td>\n",
       "      <td>{'document': {'score': 0.47444, 'label': 'posi...</td>\n",
       "      <td>en</td>\n",
       "      <td>{'document': {'emotion': {'sadness': 0.022044,...</td>\n",
       "      <td>This Company Sunrise Credit Services Inc, put ...</td>\n",
       "      <td>3399750</td>\n",
       "      <td>NaN</td>\n",
       "      <td>NaN</td>\n",
       "      <td>positive</td>\n",
       "      <td>0.474440</td>\n",
       "      <td>0.022044</td>\n",
       "      <td>0.154972</td>\n",
       "      <td>0.015914</td>\n",
       "      <td>0.003962</td>\n",
       "      <td>0.111649</td>\n",
       "    </tr>\n",
       "    <tr>\n",
       "      <th>23</th>\n",
       "      <td>{'text_units': 1, 'text_characters': 647, 'fea...</td>\n",
       "      <td>{'document': {'score': 0.266879, 'label': 'pos...</td>\n",
       "      <td>en</td>\n",
       "      <td>{'document': {'emotion': {'sadness': 0.039734,...</td>\n",
       "      <td>On XX/XX/2013 to XX/XX/2013 @ the address is X...</td>\n",
       "      <td>3400404</td>\n",
       "      <td>NaN</td>\n",
       "      <td>NaN</td>\n",
       "      <td>positive</td>\n",
       "      <td>0.266879</td>\n",
       "      <td>0.039734</td>\n",
       "      <td>0.047581</td>\n",
       "      <td>0.093248</td>\n",
       "      <td>0.011643</td>\n",
       "      <td>0.205470</td>\n",
       "    </tr>\n",
       "    <tr>\n",
       "      <th>25</th>\n",
       "      <td>{'text_units': 1, 'text_characters': 664, 'fea...</td>\n",
       "      <td>{'document': {'score': 0.384877, 'label': 'pos...</td>\n",
       "      <td>en</td>\n",
       "      <td>{'document': {'emotion': {'sadness': 0.077937,...</td>\n",
       "      <td>This particular account situation that is late...</td>\n",
       "      <td>3400807</td>\n",
       "      <td>NaN</td>\n",
       "      <td>NaN</td>\n",
       "      <td>positive</td>\n",
       "      <td>0.384877</td>\n",
       "      <td>0.077937</td>\n",
       "      <td>0.044916</td>\n",
       "      <td>0.013092</td>\n",
       "      <td>0.009457</td>\n",
       "      <td>0.137364</td>\n",
       "    </tr>\n",
       "    <tr>\n",
       "      <th>29</th>\n",
       "      <td>{'text_units': 1, 'text_characters': 668, 'fea...</td>\n",
       "      <td>{'document': {'score': 0.384009, 'label': 'pos...</td>\n",
       "      <td>en</td>\n",
       "      <td>{'document': {'emotion': {'sadness': 0.069221,...</td>\n",
       "      <td>This particular account situation that is late...</td>\n",
       "      <td>3400100</td>\n",
       "      <td>NaN</td>\n",
       "      <td>NaN</td>\n",
       "      <td>positive</td>\n",
       "      <td>0.384009</td>\n",
       "      <td>0.069221</td>\n",
       "      <td>0.046301</td>\n",
       "      <td>0.012442</td>\n",
       "      <td>0.010639</td>\n",
       "      <td>0.079911</td>\n",
       "    </tr>\n",
       "    <tr>\n",
       "      <th>31</th>\n",
       "      <td>{'text_units': 1, 'text_characters': 675, 'fea...</td>\n",
       "      <td>{'document': {'score': 0.428927, 'label': 'pos...</td>\n",
       "      <td>en</td>\n",
       "      <td>{'document': {'emotion': {'sadness': 0.175917,...</td>\n",
       "      <td>This particular account situation that is late...</td>\n",
       "      <td>3400065</td>\n",
       "      <td>NaN</td>\n",
       "      <td>NaN</td>\n",
       "      <td>positive</td>\n",
       "      <td>0.428927</td>\n",
       "      <td>0.175917</td>\n",
       "      <td>0.668384</td>\n",
       "      <td>0.063138</td>\n",
       "      <td>0.040010</td>\n",
       "      <td>0.104964</td>\n",
       "    </tr>\n",
       "    <tr>\n",
       "      <th>...</th>\n",
       "      <td>...</td>\n",
       "      <td>...</td>\n",
       "      <td>...</td>\n",
       "      <td>...</td>\n",
       "      <td>...</td>\n",
       "      <td>...</td>\n",
       "      <td>...</td>\n",
       "      <td>...</td>\n",
       "      <td>...</td>\n",
       "      <td>...</td>\n",
       "      <td>...</td>\n",
       "      <td>...</td>\n",
       "      <td>...</td>\n",
       "      <td>...</td>\n",
       "      <td>...</td>\n",
       "    </tr>\n",
       "    <tr>\n",
       "      <th>18717</th>\n",
       "      <td>{'text_units': 1, 'text_characters': 85, 'feat...</td>\n",
       "      <td>{'document': {'score': 0.5853, 'label': 'posit...</td>\n",
       "      <td>en</td>\n",
       "      <td>{'document': {'emotion': {'sadness': 0.011664,...</td>\n",
       "      <td>Hi there! \\n\\nI did not approve this inquiry I...</td>\n",
       "      <td>3314755</td>\n",
       "      <td>NaN</td>\n",
       "      <td>NaN</td>\n",
       "      <td>positive</td>\n",
       "      <td>0.585300</td>\n",
       "      <td>0.011664</td>\n",
       "      <td>0.241596</td>\n",
       "      <td>0.002310</td>\n",
       "      <td>0.017405</td>\n",
       "      <td>0.599456</td>\n",
       "    </tr>\n",
       "    <tr>\n",
       "      <th>18748</th>\n",
       "      <td>{'text_units': 1, 'text_characters': 85, 'feat...</td>\n",
       "      <td>{'document': {'score': 0.5853, 'label': 'posit...</td>\n",
       "      <td>en</td>\n",
       "      <td>{'document': {'emotion': {'sadness': 0.011664,...</td>\n",
       "      <td>Hi there! \\n\\nI did not approve this inquiry I...</td>\n",
       "      <td>3314831</td>\n",
       "      <td>NaN</td>\n",
       "      <td>NaN</td>\n",
       "      <td>positive</td>\n",
       "      <td>0.585300</td>\n",
       "      <td>0.011664</td>\n",
       "      <td>0.241596</td>\n",
       "      <td>0.002310</td>\n",
       "      <td>0.017405</td>\n",
       "      <td>0.599456</td>\n",
       "    </tr>\n",
       "    <tr>\n",
       "      <th>18753</th>\n",
       "      <td>{'text_units': 1, 'text_characters': 85, 'feat...</td>\n",
       "      <td>{'document': {'score': 0.5853, 'label': 'posit...</td>\n",
       "      <td>en</td>\n",
       "      <td>{'document': {'emotion': {'sadness': 0.011664,...</td>\n",
       "      <td>Hi there! \\n\\nI did not approve this inquiry I...</td>\n",
       "      <td>3314758</td>\n",
       "      <td>NaN</td>\n",
       "      <td>NaN</td>\n",
       "      <td>positive</td>\n",
       "      <td>0.585300</td>\n",
       "      <td>0.011664</td>\n",
       "      <td>0.241596</td>\n",
       "      <td>0.002310</td>\n",
       "      <td>0.017405</td>\n",
       "      <td>0.599456</td>\n",
       "    </tr>\n",
       "    <tr>\n",
       "      <th>18771</th>\n",
       "      <td>{'text_units': 1, 'text_characters': 267, 'fea...</td>\n",
       "      <td>{'document': {'score': 0.767884, 'label': 'pos...</td>\n",
       "      <td>en</td>\n",
       "      <td>{'document': {'emotion': {'sadness': 0.080893,...</td>\n",
       "      <td>On XX/XX/XXXX, I mailed in a credit investigat...</td>\n",
       "      <td>3314231</td>\n",
       "      <td>NaN</td>\n",
       "      <td>NaN</td>\n",
       "      <td>positive</td>\n",
       "      <td>0.767884</td>\n",
       "      <td>0.080893</td>\n",
       "      <td>0.213355</td>\n",
       "      <td>0.087035</td>\n",
       "      <td>0.006266</td>\n",
       "      <td>0.063824</td>\n",
       "    </tr>\n",
       "    <tr>\n",
       "      <th>18774</th>\n",
       "      <td>{'text_units': 1, 'text_characters': 301, 'fea...</td>\n",
       "      <td>{'document': {'score': 0.606848, 'label': 'pos...</td>\n",
       "      <td>en</td>\n",
       "      <td>{'document': {'emotion': {'sadness': 0.184773,...</td>\n",
       "      <td>For XXXX XXXX on my Transunion report of being...</td>\n",
       "      <td>3314197</td>\n",
       "      <td>NaN</td>\n",
       "      <td>NaN</td>\n",
       "      <td>positive</td>\n",
       "      <td>0.606848</td>\n",
       "      <td>0.184773</td>\n",
       "      <td>0.022874</td>\n",
       "      <td>0.022343</td>\n",
       "      <td>0.013622</td>\n",
       "      <td>0.108693</td>\n",
       "    </tr>\n",
       "  </tbody>\n",
       "</table>\n",
       "<p>829 rows × 15 columns</p>\n",
       "</div>"
      ],
      "text/plain": [
       "                                                   usage  \\\n",
       "13     {'text_units': 1, 'text_characters': 606, 'fea...   \n",
       "23     {'text_units': 1, 'text_characters': 647, 'fea...   \n",
       "25     {'text_units': 1, 'text_characters': 664, 'fea...   \n",
       "29     {'text_units': 1, 'text_characters': 668, 'fea...   \n",
       "31     {'text_units': 1, 'text_characters': 675, 'fea...   \n",
       "...                                                  ...   \n",
       "18717  {'text_units': 1, 'text_characters': 85, 'feat...   \n",
       "18748  {'text_units': 1, 'text_characters': 85, 'feat...   \n",
       "18753  {'text_units': 1, 'text_characters': 85, 'feat...   \n",
       "18771  {'text_units': 1, 'text_characters': 267, 'fea...   \n",
       "18774  {'text_units': 1, 'text_characters': 301, 'fea...   \n",
       "\n",
       "                                               sentiment language  \\\n",
       "13     {'document': {'score': 0.47444, 'label': 'posi...       en   \n",
       "23     {'document': {'score': 0.266879, 'label': 'pos...       en   \n",
       "25     {'document': {'score': 0.384877, 'label': 'pos...       en   \n",
       "29     {'document': {'score': 0.384009, 'label': 'pos...       en   \n",
       "31     {'document': {'score': 0.428927, 'label': 'pos...       en   \n",
       "...                                                  ...      ...   \n",
       "18717  {'document': {'score': 0.5853, 'label': 'posit...       en   \n",
       "18748  {'document': {'score': 0.5853, 'label': 'posit...       en   \n",
       "18753  {'document': {'score': 0.5853, 'label': 'posit...       en   \n",
       "18771  {'document': {'score': 0.767884, 'label': 'pos...       en   \n",
       "18774  {'document': {'score': 0.606848, 'label': 'pos...       en   \n",
       "\n",
       "                                                 emotion  \\\n",
       "13     {'document': {'emotion': {'sadness': 0.022044,...   \n",
       "23     {'document': {'emotion': {'sadness': 0.039734,...   \n",
       "25     {'document': {'emotion': {'sadness': 0.077937,...   \n",
       "29     {'document': {'emotion': {'sadness': 0.069221,...   \n",
       "31     {'document': {'emotion': {'sadness': 0.175917,...   \n",
       "...                                                  ...   \n",
       "18717  {'document': {'emotion': {'sadness': 0.011664,...   \n",
       "18748  {'document': {'emotion': {'sadness': 0.011664,...   \n",
       "18753  {'document': {'emotion': {'sadness': 0.011664,...   \n",
       "18771  {'document': {'emotion': {'sadness': 0.080893,...   \n",
       "18774  {'document': {'emotion': {'sadness': 0.184773,...   \n",
       "\n",
       "                                                    text       id  code error  \\\n",
       "13     This Company Sunrise Credit Services Inc, put ...  3399750   NaN   NaN   \n",
       "23     On XX/XX/2013 to XX/XX/2013 @ the address is X...  3400404   NaN   NaN   \n",
       "25     This particular account situation that is late...  3400807   NaN   NaN   \n",
       "29     This particular account situation that is late...  3400100   NaN   NaN   \n",
       "31     This particular account situation that is late...  3400065   NaN   NaN   \n",
       "...                                                  ...      ...   ...   ...   \n",
       "18717  Hi there! \\n\\nI did not approve this inquiry I...  3314755   NaN   NaN   \n",
       "18748  Hi there! \\n\\nI did not approve this inquiry I...  3314831   NaN   NaN   \n",
       "18753  Hi there! \\n\\nI did not approve this inquiry I...  3314758   NaN   NaN   \n",
       "18771  On XX/XX/XXXX, I mailed in a credit investigat...  3314231   NaN   NaN   \n",
       "18774  For XXXX XXXX on my Transunion report of being...  3314197   NaN   NaN   \n",
       "\n",
       "      sentiment_label  sentiment_score   sadness       joy      fear  \\\n",
       "13           positive         0.474440  0.022044  0.154972  0.015914   \n",
       "23           positive         0.266879  0.039734  0.047581  0.093248   \n",
       "25           positive         0.384877  0.077937  0.044916  0.013092   \n",
       "29           positive         0.384009  0.069221  0.046301  0.012442   \n",
       "31           positive         0.428927  0.175917  0.668384  0.063138   \n",
       "...               ...              ...       ...       ...       ...   \n",
       "18717        positive         0.585300  0.011664  0.241596  0.002310   \n",
       "18748        positive         0.585300  0.011664  0.241596  0.002310   \n",
       "18753        positive         0.585300  0.011664  0.241596  0.002310   \n",
       "18771        positive         0.767884  0.080893  0.213355  0.087035   \n",
       "18774        positive         0.606848  0.184773  0.022874  0.022343   \n",
       "\n",
       "        disgust     anger  \n",
       "13     0.003962  0.111649  \n",
       "23     0.011643  0.205470  \n",
       "25     0.009457  0.137364  \n",
       "29     0.010639  0.079911  \n",
       "31     0.040010  0.104964  \n",
       "...         ...       ...  \n",
       "18717  0.017405  0.599456  \n",
       "18748  0.017405  0.599456  \n",
       "18753  0.017405  0.599456  \n",
       "18771  0.006266  0.063824  \n",
       "18774  0.013622  0.108693  \n",
       "\n",
       "[829 rows x 15 columns]"
      ]
     },
     "execution_count": 158,
     "metadata": {},
     "output_type": "execute_result"
    }
   ],
   "source": [
    "re[re['sentiment_label'] == 'positive']"
   ]
  },
  {
   "cell_type": "code",
   "execution_count": 159,
   "metadata": {},
   "outputs": [
    {
     "data": {
      "text/plain": [
       "'On XX/XX/XXXX, I mailed in a credit investigation request to the credit bureaus. By law, they are required to complete their investigations and respond with the result, within 30 days. As of today ( XX/XX/XXXX ), I have yet to receive my credit investigation results.'"
      ]
     },
     "execution_count": 159,
     "metadata": {},
     "output_type": "execute_result"
    }
   ],
   "source": [
    "re.loc[18771, 'text']"
   ]
  },
  {
   "cell_type": "code",
   "execution_count": 160,
   "metadata": {},
   "outputs": [
    {
     "data": {
      "text/plain": [
       "<matplotlib.axes._subplots.AxesSubplot at 0x11edab550>"
      ]
     },
     "execution_count": 160,
     "metadata": {},
     "output_type": "execute_result"
    },
    {
     "data": {
      "image/png": "[encoded data removed]",
      "text/plain": [
       "<Figure size 432x288 with 1 Axes>"
      ]
     },
     "metadata": {
      "needs_background": "light"
     },
     "output_type": "display_data"
    }
   ],
   "source": [
    "re['sentiment_score'].hist()"
   ]
  },
  {
   "cell_type": "code",
   "execution_count": 161,
   "metadata": {},
   "outputs": [
    {
     "data": {
      "text/plain": [
       "<matplotlib.axes._subplots.AxesSubplot at 0x11da814d0>"
      ]
     },
     "execution_count": 161,
     "metadata": {},
     "output_type": "execute_result"
    },
    {
     "data": {
      "image/png": "[encoded data removed]",
      "text/plain": [
       "<Figure size 432x288 with 1 Axes>"
      ]
     },
     "metadata": {
      "needs_background": "light"
     },
     "output_type": "display_data"
    }
   ],
   "source": [
    "re['joy'].hist()"
   ]
  },
  {
   "cell_type": "code",
   "execution_count": 162,
   "metadata": {},
   "outputs": [
    {
     "data": {
      "text/plain": [
       "<matplotlib.axes._subplots.AxesSubplot at 0x11ee408d0>"
      ]
     },
     "execution_count": 162,
     "metadata": {},
     "output_type": "execute_result"
    },
    {
     "data": {
      "image/png": "[encoded data removed]",
      "text/plain": [
       "<Figure size 432x288 with 1 Axes>"
      ]
     },
     "metadata": {
      "needs_background": "light"
     },
     "output_type": "display_data"
    }
   ],
   "source": [
    "re['sadness'].hist()"
   ]
  },
  {
   "cell_type": "code",
   "execution_count": 163,
   "metadata": {},
   "outputs": [
    {
     "data": {
      "text/plain": [
       "<matplotlib.axes._subplots.AxesSubplot at 0x11d8398d0>"
      ]
     },
     "execution_count": 163,
     "metadata": {},
     "output_type": "execute_result"
    },
    {
     "data": {
      "image/png": "[encoded data removed]",
      "text/plain": [
       "<Figure size 432x288 with 1 Axes>"
      ]
     },
     "metadata": {
      "needs_background": "light"
     },
     "output_type": "display_data"
    }
   ],
   "source": [
    "re['fear'].hist()"
   ]
  },
  {
   "cell_type": "code",
   "execution_count": 164,
   "metadata": {},
   "outputs": [
    {
     "data": {
      "text/plain": [
       "<matplotlib.axes._subplots.AxesSubplot at 0x11d824c90>"
      ]
     },
     "execution_count": 164,
     "metadata": {},
     "output_type": "execute_result"
    },
    {
     "data": {
      "image/png": "[encoded data removed]",
      "text/plain": [
       "<Figure size 432x288 with 1 Axes>"
      ]
     },
     "metadata": {
      "needs_background": "light"
     },
     "output_type": "display_data"
    }
   ],
   "source": [
    "re['disgust'].hist()"
   ]
  },
  {
   "cell_type": "code",
   "execution_count": 165,
   "metadata": {},
   "outputs": [
    {
     "data": {
      "text/plain": [
       "<matplotlib.axes._subplots.AxesSubplot at 0x11c17c750>"
      ]
     },
     "execution_count": 165,
     "metadata": {},
     "output_type": "execute_result"
    },
    {
     "data": {
      "image/png": "[encoded data removed]",
      "text/plain": [
       "<Figure size 432x288 with 1 Axes>"
      ]
     },
     "metadata": {
      "needs_background": "light"
     },
     "output_type": "display_data"
    }
   ],
   "source": [
    "re['anger'].hist()"
   ]
  },
  {
   "cell_type": "code",
   "execution_count": 171,
   "metadata": {},
   "outputs": [],
   "source": [
    "from sklearn.feature_extraction.text import TfidfVectorizer\n",
    "from sklearn.svm import LinearSVR\n",
    "\n",
    "from nltk.corpus import stopwords \n",
    "from nltk.tokenize import word_tokenize\n",
    "from nltk.stem import SnowballStemmer\n",
    "stop_words = set(stopwords.words('english'))\n",
    "\n",
    "contraction_mapping = {\"ain't\": \"is not\", \"aren't\": \"are not\",\"can't\": \"cannot\", \"'cause\": \"because\", \"could've\": \"could have\", \"couldn't\": \"could not\", \"didn't\": \"did not\",  \"doesn't\": \"does not\", \"don't\": \"do not\", \"hadn't\": \"had not\", \"hasn't\": \"has not\", \"haven't\": \"have not\", \"he'd\": \"he would\",\"he'll\": \"he will\", \"he's\": \"he is\", \"how'd\": \"how did\", \"how'd'y\": \"how do you\", \"how'll\": \"how will\", \"how's\": \"how is\",  \"I'd\": \"I would\", \"I'd've\": \"I would have\", \"I'll\": \"I will\", \"I'll've\": \"I will have\",\"I'm\": \"I am\", \"I've\": \"I have\", \"i'd\": \"i would\", \"i'd've\": \"i would have\", \"i'll\": \"i will\",  \"i'll've\": \"i will have\",\"i'm\": \"i am\", \"i've\": \"i have\", \"isn't\": \"is not\", \"it'd\": \"it would\", \"it'd've\": \"it would have\", \"it'll\": \"it will\", \"it'll've\": \"it will have\",\"it's\": \"it is\", \"let's\": \"let us\", \"ma'am\": \"madam\", \"mayn't\": \"may not\", \"might've\": \"might have\",\"mightn't\": \"might not\",\"mightn't've\": \"might not have\", \"must've\": \"must have\", \"mustn't\": \"must not\", \"mustn't've\": \"must not have\", \"needn't\": \"need not\", \"needn't've\": \"need not have\",\"o'clock\": \"of the clock\", \"oughtn't\": \"ought not\", \"oughtn't've\": \"ought not have\", \"shan't\": \"shall not\", \"sha'n't\": \"shall not\", \"shan't've\": \"shall not have\", \"she'd\": \"she would\", \"she'd've\": \"she would have\", \"she'll\": \"she will\", \"she'll've\": \"she will have\", \"she's\": \"she is\", \"should've\": \"should have\", \"shouldn't\": \"should not\", \"shouldn't've\": \"should not have\", \"so've\": \"so have\",\"so's\": \"so as\", \"this's\": \"this is\",\"that'd\": \"that would\", \"that'd've\": \"that would have\", \"that's\": \"that is\", \"there'd\": \"there would\", \"there'd've\": \"there would have\", \"there's\": \"there is\", \"here's\": \"here is\",\"they'd\": \"they would\", \"they'd've\": \"they would have\", \"they'll\": \"they will\", \"they'll've\": \"they will have\", \"they're\": \"they are\", \"they've\": \"they have\", \"to've\": \"to have\", \"wasn't\": \"was not\", \"we'd\": \"we would\", \"we'd've\": \"we would have\", \"we'll\": \"we will\", \"we'll've\": \"we will have\", \"we're\": \"we are\", \"we've\": \"we have\", \"weren't\": \"were not\", \"what'll\": \"what will\", \"what'll've\": \"what will have\", \"what're\": \"what are\",  \"what's\": \"what is\", \"what've\": \"what have\", \"when's\": \"when is\", \"when've\": \"when have\", \"where'd\": \"where did\", \"where's\": \"where is\", \"where've\": \"where have\", \"who'll\": \"who will\", \"who'll've\": \"who will have\", \"who's\": \"who is\", \"who've\": \"who have\", \"why's\": \"why is\", \"why've\": \"why have\", \"will've\": \"will have\", \"won't\": \"will not\", \"won't've\": \"will not have\", \"would've\": \"would have\", \"wouldn't\": \"would not\", \"wouldn't've\": \"would not have\", \"y'all\": \"you all\", \"y'all'd\": \"you all would\",\"y'all'd've\": \"you all would have\",\"y'all're\": \"you all are\",\"y'all've\": \"you all have\",\"you'd\": \"you would\", \"you'd've\": \"you would have\", \"you'll\": \"you will\", \"you'll've\": \"you will have\", \"you're\": \"you are\", \"you've\": \"you have\" }\n",
    "\n",
    "def tokenize(text):\n",
    "    return [contraction_mapping[t] if t in contraction_mapping else t for t in text.lower().split(' ')]    \n",
    "    "
   ]
  },
  {
   "cell_type": "code",
   "execution_count": 177,
   "metadata": {},
   "outputs": [],
   "source": [
    "from sklearn.model_selection import train_test_split\n",
    "\n",
    "x_train, x_test, y_train, y_test = train_test_split(re['text'], re['sentiment_score'], test_size=0.33, random_state=42)"
   ]
  },
  {
   "cell_type": "code",
   "execution_count": 232,
   "metadata": {},
   "outputs": [
    {
     "name": "stdout",
     "output_type": "stream",
     "text": [
      "CPU times: user 13.6 s, sys: 534 ms, total: 14.2 s\n",
      "Wall time: 15.1 s\n"
     ]
    },
    {
     "data": {
      "text/plain": [
       "Pipeline(memory=None,\n",
       "     steps=[('vectorizer', TfidfVectorizer(analyzer='word', binary=False, decode_error='strict',\n",
       "        dtype=<class 'numpy.int64'>, encoding='utf-8', input='content',\n",
       "        lowercase=True, max_df=0.5, max_features=None, min_df=5,\n",
       "        ngram_range=(1, 3), norm='l2', preprocessor=None, smooth_idf=Tr...caling=1.0, loss='epsilon_insensitive', max_iter=1000,\n",
       "     random_state=71, tol=0.001, verbose=0))])"
      ]
     },
     "execution_count": 232,
     "metadata": {},
     "output_type": "execute_result"
    }
   ],
   "source": [
    "from sklearn.pipeline import Pipeline\n",
    "\n",
    "vectorizer = TfidfVectorizer(tokenizer=tokenize, stop_words='english', ngram_range=(1, 3), max_df=0.5, min_df=5)\n",
    "svr = LinearSVR(random_state=71, tol=1e-3, C=1.2)\n",
    "\n",
    "pipe = Pipeline([\n",
    "            ('vectorizer', vectorizer),\n",
    "            ('regression', svr),\n",
    "        ])\n",
    "\n",
    "%time pipe.fit(x_train, y_train)"
   ]
  },
  {
   "cell_type": "code",
   "execution_count": 233,
   "metadata": {},
   "outputs": [],
   "source": [
    "y_hat = pipe.predict(x_test)"
   ]
  },
  {
   "cell_type": "code",
   "execution_count": 255,
   "metadata": {},
   "outputs": [
    {
     "name": "stdout",
     "output_type": "stream",
     "text": [
      "0.1437040482720609\n",
      "0.05278418696696531\n"
     ]
    }
   ],
   "source": [
    "from sklearn.metrics import mean_absolute_error, mean_squared_error\n",
    "\n",
    "print(mean_absolute_error(y_test, y_hat))\n",
    "print(mean_squared_error(y_test, y_hat))"
   ]
  },
  {
   "cell_type": "code",
   "execution_count": 235,
   "metadata": {},
   "outputs": [],
   "source": [
    "preds = pd.DataFrame(zip(x_test, y_test, y_hat), columns = ['text', 'score', 'prediction'])"
   ]
  },
  {
   "cell_type": "code",
   "execution_count": 236,
   "metadata": {},
   "outputs": [
    {
     "data": {
      "text/plain": [
       "<matplotlib.axes._subplots.AxesSubplot at 0x14a245910>"
      ]
     },
     "execution_count": 236,
     "metadata": {},
     "output_type": "execute_result"
    },
    {
     "data": {
      "image/png": "[encoded data removed]",
      "text/plain": [
       "<Figure size 432x288 with 1 Axes>"
      ]
     },
     "metadata": {
      "needs_background": "light"
     },
     "output_type": "display_data"
    }
   ],
   "source": [
    "preds['prediction'].hist()"
   ]
  },
  {
   "cell_type": "code",
   "execution_count": 237,
   "metadata": {},
   "outputs": [
    {
     "data": {
      "text/html": [
       "<div>\n",
       "<style scoped>\n",
       "    .dataframe tbody tr th:only-of-type {\n",
       "        vertical-align: middle;\n",
       "    }\n",
       "\n",
       "    .dataframe tbody tr th {\n",
       "        vertical-align: top;\n",
       "    }\n",
       "\n",
       "    .dataframe thead th {\n",
       "        text-align: right;\n",
       "    }\n",
       "</style>\n",
       "<table border=\"1\" class=\"dataframe\">\n",
       "  <thead>\n",
       "    <tr style=\"text-align: right;\">\n",
       "      <th></th>\n",
       "      <th>text</th>\n",
       "      <th>score</th>\n",
       "      <th>prediction</th>\n",
       "    </tr>\n",
       "  </thead>\n",
       "  <tbody>\n",
       "    <tr>\n",
       "      <th>140</th>\n",
       "      <td>When I changed my account from a student check...</td>\n",
       "      <td>-0.813655</td>\n",
       "      <td>-1.121395</td>\n",
       "    </tr>\n",
       "    <tr>\n",
       "      <th>197</th>\n",
       "      <td>On saturday XX/XX/2019 at XXXX i opened the ca...</td>\n",
       "      <td>-0.645698</td>\n",
       "      <td>-1.026944</td>\n",
       "    </tr>\n",
       "    <tr>\n",
       "      <th>301</th>\n",
       "      <td>I am filing a complaint due to continuous ( XX...</td>\n",
       "      <td>-0.996856</td>\n",
       "      <td>-1.003017</td>\n",
       "    </tr>\n",
       "    <tr>\n",
       "      <th>363</th>\n",
       "      <td>Due to Equifax security breach My personal inf...</td>\n",
       "      <td>-0.992620</td>\n",
       "      <td>-1.003598</td>\n",
       "    </tr>\n",
       "    <tr>\n",
       "      <th>373</th>\n",
       "      <td>A year ago I was scammed into using my vehicle...</td>\n",
       "      <td>-0.752270</td>\n",
       "      <td>-1.022135</td>\n",
       "    </tr>\n",
       "    <tr>\n",
       "      <th>...</th>\n",
       "      <td>...</td>\n",
       "      <td>...</td>\n",
       "      <td>...</td>\n",
       "    </tr>\n",
       "    <tr>\n",
       "      <th>6056</th>\n",
       "      <td>Fraudulent account in my name stolen identity ...</td>\n",
       "      <td>-0.877517</td>\n",
       "      <td>-1.110843</td>\n",
       "    </tr>\n",
       "    <tr>\n",
       "      <th>6129</th>\n",
       "      <td>I have been disputing on my credit report for ...</td>\n",
       "      <td>-0.938467</td>\n",
       "      <td>-1.021367</td>\n",
       "    </tr>\n",
       "    <tr>\n",
       "      <th>6141</th>\n",
       "      <td>I call every 6 months to re-establish my payme...</td>\n",
       "      <td>-0.820675</td>\n",
       "      <td>-1.076211</td>\n",
       "    </tr>\n",
       "    <tr>\n",
       "      <th>6174</th>\n",
       "      <td>My mortgage company XXXX went chapter XXXX, se...</td>\n",
       "      <td>-0.764821</td>\n",
       "      <td>-1.031197</td>\n",
       "    </tr>\n",
       "    <tr>\n",
       "      <th>6195</th>\n",
       "      <td>XXXX  refuses to remove fraudulent negative ac...</td>\n",
       "      <td>-0.889418</td>\n",
       "      <td>-1.165845</td>\n",
       "    </tr>\n",
       "  </tbody>\n",
       "</table>\n",
       "<p>184 rows × 3 columns</p>\n",
       "</div>"
      ],
      "text/plain": [
       "                                                   text     score  prediction\n",
       "140   When I changed my account from a student check... -0.813655   -1.121395\n",
       "197   On saturday XX/XX/2019 at XXXX i opened the ca... -0.645698   -1.026944\n",
       "301   I am filing a complaint due to continuous ( XX... -0.996856   -1.003017\n",
       "363   Due to Equifax security breach My personal inf... -0.992620   -1.003598\n",
       "373   A year ago I was scammed into using my vehicle... -0.752270   -1.022135\n",
       "...                                                 ...       ...         ...\n",
       "6056  Fraudulent account in my name stolen identity ... -0.877517   -1.110843\n",
       "6129  I have been disputing on my credit report for ... -0.938467   -1.021367\n",
       "6141  I call every 6 months to re-establish my payme... -0.820675   -1.076211\n",
       "6174  My mortgage company XXXX went chapter XXXX, se... -0.764821   -1.031197\n",
       "6195  XXXX  refuses to remove fraudulent negative ac... -0.889418   -1.165845\n",
       "\n",
       "[184 rows x 3 columns]"
      ]
     },
     "execution_count": 237,
     "metadata": {},
     "output_type": "execute_result"
    }
   ],
   "source": [
    "preds[preds['prediction'] < -1]"
   ]
  },
  {
   "cell_type": "code",
   "execution_count": 238,
   "metadata": {},
   "outputs": [
    {
     "data": {
      "text/plain": [
       "'XXXX  refuses to remove fraudulent negative accounts from my report that are not mine. I have tried to submit disputes on-line and now they have blocked access to me doing so. This is in violation of the FCRA.'"
      ]
     },
     "execution_count": 238,
     "metadata": {},
     "output_type": "execute_result"
    }
   ],
   "source": [
    "preds.loc[6195, 'text']"
   ]
  },
  {
   "cell_type": "code",
   "execution_count": 239,
   "metadata": {},
   "outputs": [
    {
     "data": {
      "text/plain": [
       "43322"
      ]
     },
     "execution_count": 239,
     "metadata": {},
     "output_type": "execute_result"
    }
   ],
   "source": [
    "len(vectorizer.get_feature_names())"
   ]
  },
  {
   "cell_type": "code",
   "execution_count": 240,
   "metadata": {},
   "outputs": [],
   "source": [
    "df['sentiment'] = pipe.predict(df['Consumer complaint narrative'])"
   ]
  },
  {
   "cell_type": "code",
   "execution_count": 241,
   "metadata": {},
   "outputs": [
    {
     "data": {
      "text/plain": [
       "<matplotlib.axes._subplots.AxesSubplot at 0x146dcf450>"
      ]
     },
     "execution_count": 241,
     "metadata": {},
     "output_type": "execute_result"
    },
    {
     "data": {
      "image/png": "[encoded data removed]",
      "text/plain": [
       "<Figure size 432x288 with 1 Axes>"
      ]
     },
     "metadata": {
      "needs_background": "light"
     },
     "output_type": "display_data"
    }
   ],
   "source": [
    "df['sentiment'].hist(bins=[i / 10 for i in range(-15, 5)])"
   ]
  },
  {
   "cell_type": "code",
   "execution_count": 244,
   "metadata": {},
   "outputs": [
    {
     "data": {
      "text/html": [
       "<div>\n",
       "<style scoped>\n",
       "    .dataframe tbody tr th:only-of-type {\n",
       "        vertical-align: middle;\n",
       "    }\n",
       "\n",
       "    .dataframe tbody tr th {\n",
       "        vertical-align: top;\n",
       "    }\n",
       "\n",
       "    .dataframe thead th {\n",
       "        text-align: right;\n",
       "    }\n",
       "</style>\n",
       "<table border=\"1\" class=\"dataframe\">\n",
       "  <thead>\n",
       "    <tr style=\"text-align: right;\">\n",
       "      <th></th>\n",
       "      <th>Date received</th>\n",
       "      <th>Product</th>\n",
       "      <th>Sub-product</th>\n",
       "      <th>Issue</th>\n",
       "      <th>Sub-issue</th>\n",
       "      <th>Consumer complaint narrative</th>\n",
       "      <th>Company public response</th>\n",
       "      <th>Company</th>\n",
       "      <th>State</th>\n",
       "      <th>ZIP code</th>\n",
       "      <th>Tags</th>\n",
       "      <th>Consumer consent provided?</th>\n",
       "      <th>Submitted via</th>\n",
       "      <th>Date sent to company</th>\n",
       "      <th>Company response to consumer</th>\n",
       "      <th>Timely response?</th>\n",
       "      <th>Consumer disputed?</th>\n",
       "      <th>len</th>\n",
       "      <th>sentiment</th>\n",
       "    </tr>\n",
       "    <tr>\n",
       "      <th>Complaint ID</th>\n",
       "      <th></th>\n",
       "      <th></th>\n",
       "      <th></th>\n",
       "      <th></th>\n",
       "      <th></th>\n",
       "      <th></th>\n",
       "      <th></th>\n",
       "      <th></th>\n",
       "      <th></th>\n",
       "      <th></th>\n",
       "      <th></th>\n",
       "      <th></th>\n",
       "      <th></th>\n",
       "      <th></th>\n",
       "      <th></th>\n",
       "      <th></th>\n",
       "      <th></th>\n",
       "      <th></th>\n",
       "      <th></th>\n",
       "    </tr>\n",
       "  </thead>\n",
       "  <tbody>\n",
       "    <tr>\n",
       "      <th>2832159</th>\n",
       "      <td>03/03/2018</td>\n",
       "      <td>Credit reporting, credit repair services, or o...</td>\n",
       "      <td>Credit reporting</td>\n",
       "      <td>Incorrect information on your report</td>\n",
       "      <td>Account information incorrect</td>\n",
       "      <td>J.P. Morgan Chase Bank and NA subsidiary J.P. ...</td>\n",
       "      <td>NaN</td>\n",
       "      <td>JPMORGAN CHASE &amp; CO.</td>\n",
       "      <td>FL</td>\n",
       "      <td>320XX</td>\n",
       "      <td>Servicemember</td>\n",
       "      <td>Consent provided</td>\n",
       "      <td>Web</td>\n",
       "      <td>03/03/2018</td>\n",
       "      <td>Closed with explanation</td>\n",
       "      <td>Yes</td>\n",
       "      <td>NaN</td>\n",
       "      <td>4894</td>\n",
       "      <td>-1.000017</td>\n",
       "    </tr>\n",
       "    <tr>\n",
       "      <th>3289312</th>\n",
       "      <td>06/27/2019</td>\n",
       "      <td>Credit reporting, credit repair services, or o...</td>\n",
       "      <td>Credit reporting</td>\n",
       "      <td>Incorrect information on your report</td>\n",
       "      <td>Information belongs to someone else</td>\n",
       "      <td>THE DISPUTED ACCOUNT DOES NOT BELONG TO ME, I ...</td>\n",
       "      <td>NaN</td>\n",
       "      <td>EQUIFAX, INC.</td>\n",
       "      <td>FL</td>\n",
       "      <td>330XX</td>\n",
       "      <td>NaN</td>\n",
       "      <td>Consent provided</td>\n",
       "      <td>Web</td>\n",
       "      <td>06/27/2019</td>\n",
       "      <td>Closed with explanation</td>\n",
       "      <td>Yes</td>\n",
       "      <td>NaN</td>\n",
       "      <td>189</td>\n",
       "      <td>-1.000020</td>\n",
       "    </tr>\n",
       "    <tr>\n",
       "      <th>3289315</th>\n",
       "      <td>06/27/2019</td>\n",
       "      <td>Credit reporting, credit repair services, or o...</td>\n",
       "      <td>Credit reporting</td>\n",
       "      <td>Incorrect information on your report</td>\n",
       "      <td>Information belongs to someone else</td>\n",
       "      <td>THE DISPUTED ACCOUNT DOES NOT BELONG TO ME, I ...</td>\n",
       "      <td>Company has responded to the consumer and the ...</td>\n",
       "      <td>TRANSUNION INTERMEDIATE HOLDINGS, INC.</td>\n",
       "      <td>FL</td>\n",
       "      <td>330XX</td>\n",
       "      <td>NaN</td>\n",
       "      <td>Consent provided</td>\n",
       "      <td>Web</td>\n",
       "      <td>06/27/2019</td>\n",
       "      <td>Closed with explanation</td>\n",
       "      <td>Yes</td>\n",
       "      <td>NaN</td>\n",
       "      <td>189</td>\n",
       "      <td>-1.000020</td>\n",
       "    </tr>\n",
       "    <tr>\n",
       "      <th>3289306</th>\n",
       "      <td>06/27/2019</td>\n",
       "      <td>Credit reporting, credit repair services, or o...</td>\n",
       "      <td>Credit reporting</td>\n",
       "      <td>Incorrect information on your report</td>\n",
       "      <td>Information belongs to someone else</td>\n",
       "      <td>THE DISPUTED ACCOUNT DOES NOT BELONG TO ME, I ...</td>\n",
       "      <td>Company has responded to the consumer and the ...</td>\n",
       "      <td>Experian Information Solutions Inc.</td>\n",
       "      <td>FL</td>\n",
       "      <td>330XX</td>\n",
       "      <td>NaN</td>\n",
       "      <td>Consent provided</td>\n",
       "      <td>Web</td>\n",
       "      <td>06/27/2019</td>\n",
       "      <td>Closed with non-monetary relief</td>\n",
       "      <td>Yes</td>\n",
       "      <td>NaN</td>\n",
       "      <td>189</td>\n",
       "      <td>-1.000020</td>\n",
       "    </tr>\n",
       "    <tr>\n",
       "      <th>3119480</th>\n",
       "      <td>01/08/2019</td>\n",
       "      <td>Debt collection</td>\n",
       "      <td>Credit card debt</td>\n",
       "      <td>Attempts to collect debt not owed</td>\n",
       "      <td>Debt was already discharged in bankruptcy and ...</td>\n",
       "      <td>At first it started off with messages being le...</td>\n",
       "      <td>Company has responded to the consumer and the ...</td>\n",
       "      <td>BARCLAYS BANK DELAWARE</td>\n",
       "      <td>VA</td>\n",
       "      <td>231XX</td>\n",
       "      <td>NaN</td>\n",
       "      <td>Consent provided</td>\n",
       "      <td>Web</td>\n",
       "      <td>01/09/2019</td>\n",
       "      <td>Closed with explanation</td>\n",
       "      <td>Yes</td>\n",
       "      <td>NaN</td>\n",
       "      <td>2229</td>\n",
       "      <td>-1.000055</td>\n",
       "    </tr>\n",
       "    <tr>\n",
       "      <th>...</th>\n",
       "      <td>...</td>\n",
       "      <td>...</td>\n",
       "      <td>...</td>\n",
       "      <td>...</td>\n",
       "      <td>...</td>\n",
       "      <td>...</td>\n",
       "      <td>...</td>\n",
       "      <td>...</td>\n",
       "      <td>...</td>\n",
       "      <td>...</td>\n",
       "      <td>...</td>\n",
       "      <td>...</td>\n",
       "      <td>...</td>\n",
       "      <td>...</td>\n",
       "      <td>...</td>\n",
       "      <td>...</td>\n",
       "      <td>...</td>\n",
       "      <td>...</td>\n",
       "      <td>...</td>\n",
       "    </tr>\n",
       "    <tr>\n",
       "      <th>2851856</th>\n",
       "      <td>03/22/2018</td>\n",
       "      <td>Credit reporting, credit repair services, or o...</td>\n",
       "      <td>Credit reporting</td>\n",
       "      <td>Incorrect information on your report</td>\n",
       "      <td>Information belongs to someone else</td>\n",
       "      <td>cra violation inaccurate information po report...</td>\n",
       "      <td>Company has responded to the consumer and the ...</td>\n",
       "      <td>TRANSUNION INTERMEDIATE HOLDINGS, INC.</td>\n",
       "      <td>TX</td>\n",
       "      <td>770XX</td>\n",
       "      <td>NaN</td>\n",
       "      <td>Consent provided</td>\n",
       "      <td>Web</td>\n",
       "      <td>03/22/2018</td>\n",
       "      <td>Closed with explanation</td>\n",
       "      <td>Yes</td>\n",
       "      <td>NaN</td>\n",
       "      <td>131</td>\n",
       "      <td>-1.460093</td>\n",
       "    </tr>\n",
       "    <tr>\n",
       "      <th>2851857</th>\n",
       "      <td>03/22/2018</td>\n",
       "      <td>Credit reporting, credit repair services, or o...</td>\n",
       "      <td>Credit reporting</td>\n",
       "      <td>Incorrect information on your report</td>\n",
       "      <td>Information belongs to someone else</td>\n",
       "      <td>cra violation inaccurate information po report...</td>\n",
       "      <td>Company has responded to the consumer and the ...</td>\n",
       "      <td>Experian Information Solutions Inc.</td>\n",
       "      <td>TX</td>\n",
       "      <td>770XX</td>\n",
       "      <td>NaN</td>\n",
       "      <td>Consent provided</td>\n",
       "      <td>Web</td>\n",
       "      <td>03/22/2018</td>\n",
       "      <td>Closed with explanation</td>\n",
       "      <td>Yes</td>\n",
       "      <td>NaN</td>\n",
       "      <td>131</td>\n",
       "      <td>-1.460093</td>\n",
       "    </tr>\n",
       "    <tr>\n",
       "      <th>2477637</th>\n",
       "      <td>05/06/2017</td>\n",
       "      <td>Credit reporting, credit repair services, or o...</td>\n",
       "      <td>Credit reporting</td>\n",
       "      <td>Incorrect information on your report</td>\n",
       "      <td>Public record information inaccurate</td>\n",
       "      <td>I have repeatedly tried to apply for student l...</td>\n",
       "      <td>Company has responded to the consumer and the ...</td>\n",
       "      <td>Experian Information Solutions Inc.</td>\n",
       "      <td>AZ</td>\n",
       "      <td>853XX</td>\n",
       "      <td>NaN</td>\n",
       "      <td>Consent provided</td>\n",
       "      <td>Web</td>\n",
       "      <td>05/06/2017</td>\n",
       "      <td>Closed with explanation</td>\n",
       "      <td>Yes</td>\n",
       "      <td>NaN</td>\n",
       "      <td>524</td>\n",
       "      <td>-1.466357</td>\n",
       "    </tr>\n",
       "    <tr>\n",
       "      <th>3042429</th>\n",
       "      <td>10/10/2018</td>\n",
       "      <td>Checking or savings account</td>\n",
       "      <td>Checking account</td>\n",
       "      <td>Managing an account</td>\n",
       "      <td>Fee problem</td>\n",
       "      <td>I have ongoing disputes that are preventing me...</td>\n",
       "      <td>NaN</td>\n",
       "      <td>PNC Bank N.A.</td>\n",
       "      <td>OH</td>\n",
       "      <td>440XX</td>\n",
       "      <td>NaN</td>\n",
       "      <td>Consent provided</td>\n",
       "      <td>Web</td>\n",
       "      <td>10/10/2018</td>\n",
       "      <td>Closed with explanation</td>\n",
       "      <td>Yes</td>\n",
       "      <td>NaN</td>\n",
       "      <td>829</td>\n",
       "      <td>-1.483220</td>\n",
       "    </tr>\n",
       "    <tr>\n",
       "      <th>2664713</th>\n",
       "      <td>09/08/2017</td>\n",
       "      <td>Credit reporting, credit repair services, or o...</td>\n",
       "      <td>Other personal consumer report</td>\n",
       "      <td>Incorrect information on your report</td>\n",
       "      <td>Information belongs to someone else</td>\n",
       "      <td>mI have contacted Early Warning by phone and b...</td>\n",
       "      <td>NaN</td>\n",
       "      <td>EARLY WARNING SERVICES, LLC</td>\n",
       "      <td>GA</td>\n",
       "      <td>30339</td>\n",
       "      <td>Servicemember</td>\n",
       "      <td>Consent provided</td>\n",
       "      <td>Web</td>\n",
       "      <td>09/08/2017</td>\n",
       "      <td>Closed with explanation</td>\n",
       "      <td>Yes</td>\n",
       "      <td>NaN</td>\n",
       "      <td>1482</td>\n",
       "      <td>-1.516031</td>\n",
       "    </tr>\n",
       "  </tbody>\n",
       "</table>\n",
       "<p>13347 rows × 19 columns</p>\n",
       "</div>"
      ],
      "text/plain": [
       "             Date received                                            Product  \\\n",
       "Complaint ID                                                                    \n",
       "2832159         03/03/2018  Credit reporting, credit repair services, or o...   \n",
       "3289312         06/27/2019  Credit reporting, credit repair services, or o...   \n",
       "3289315         06/27/2019  Credit reporting, credit repair services, or o...   \n",
       "3289306         06/27/2019  Credit reporting, credit repair services, or o...   \n",
       "3119480         01/08/2019                                    Debt collection   \n",
       "...                    ...                                                ...   \n",
       "2851856         03/22/2018  Credit reporting, credit repair services, or o...   \n",
       "2851857         03/22/2018  Credit reporting, credit repair services, or o...   \n",
       "2477637         05/06/2017  Credit reporting, credit repair services, or o...   \n",
       "3042429         10/10/2018                        Checking or savings account   \n",
       "2664713         09/08/2017  Credit reporting, credit repair services, or o...   \n",
       "\n",
       "                                 Sub-product  \\\n",
       "Complaint ID                                   \n",
       "2832159                     Credit reporting   \n",
       "3289312                     Credit reporting   \n",
       "3289315                     Credit reporting   \n",
       "3289306                     Credit reporting   \n",
       "3119480                     Credit card debt   \n",
       "...                                      ...   \n",
       "2851856                     Credit reporting   \n",
       "2851857                     Credit reporting   \n",
       "2477637                     Credit reporting   \n",
       "3042429                     Checking account   \n",
       "2664713       Other personal consumer report   \n",
       "\n",
       "                                             Issue  \\\n",
       "Complaint ID                                         \n",
       "2832159       Incorrect information on your report   \n",
       "3289312       Incorrect information on your report   \n",
       "3289315       Incorrect information on your report   \n",
       "3289306       Incorrect information on your report   \n",
       "3119480          Attempts to collect debt not owed   \n",
       "...                                            ...   \n",
       "2851856       Incorrect information on your report   \n",
       "2851857       Incorrect information on your report   \n",
       "2477637       Incorrect information on your report   \n",
       "3042429                        Managing an account   \n",
       "2664713       Incorrect information on your report   \n",
       "\n",
       "                                                      Sub-issue  \\\n",
       "Complaint ID                                                      \n",
       "2832159                           Account information incorrect   \n",
       "3289312                     Information belongs to someone else   \n",
       "3289315                     Information belongs to someone else   \n",
       "3289306                     Information belongs to someone else   \n",
       "3119480       Debt was already discharged in bankruptcy and ...   \n",
       "...                                                         ...   \n",
       "2851856                     Information belongs to someone else   \n",
       "2851857                     Information belongs to someone else   \n",
       "2477637                    Public record information inaccurate   \n",
       "3042429                                             Fee problem   \n",
       "2664713                     Information belongs to someone else   \n",
       "\n",
       "                                   Consumer complaint narrative  \\\n",
       "Complaint ID                                                      \n",
       "2832159       J.P. Morgan Chase Bank and NA subsidiary J.P. ...   \n",
       "3289312       THE DISPUTED ACCOUNT DOES NOT BELONG TO ME, I ...   \n",
       "3289315       THE DISPUTED ACCOUNT DOES NOT BELONG TO ME, I ...   \n",
       "3289306       THE DISPUTED ACCOUNT DOES NOT BELONG TO ME, I ...   \n",
       "3119480       At first it started off with messages being le...   \n",
       "...                                                         ...   \n",
       "2851856       cra violation inaccurate information po report...   \n",
       "2851857       cra violation inaccurate information po report...   \n",
       "2477637       I have repeatedly tried to apply for student l...   \n",
       "3042429       I have ongoing disputes that are preventing me...   \n",
       "2664713       mI have contacted Early Warning by phone and b...   \n",
       "\n",
       "                                        Company public response  \\\n",
       "Complaint ID                                                      \n",
       "2832159                                                     NaN   \n",
       "3289312                                                     NaN   \n",
       "3289315       Company has responded to the consumer and the ...   \n",
       "3289306       Company has responded to the consumer and the ...   \n",
       "3119480       Company has responded to the consumer and the ...   \n",
       "...                                                         ...   \n",
       "2851856       Company has responded to the consumer and the ...   \n",
       "2851857       Company has responded to the consumer and the ...   \n",
       "2477637       Company has responded to the consumer and the ...   \n",
       "3042429                                                     NaN   \n",
       "2664713                                                     NaN   \n",
       "\n",
       "                                             Company State ZIP code  \\\n",
       "Complaint ID                                                          \n",
       "2832159                         JPMORGAN CHASE & CO.    FL    320XX   \n",
       "3289312                                EQUIFAX, INC.    FL    330XX   \n",
       "3289315       TRANSUNION INTERMEDIATE HOLDINGS, INC.    FL    330XX   \n",
       "3289306          Experian Information Solutions Inc.    FL    330XX   \n",
       "3119480                       BARCLAYS BANK DELAWARE    VA    231XX   \n",
       "...                                              ...   ...      ...   \n",
       "2851856       TRANSUNION INTERMEDIATE HOLDINGS, INC.    TX    770XX   \n",
       "2851857          Experian Information Solutions Inc.    TX    770XX   \n",
       "2477637          Experian Information Solutions Inc.    AZ    853XX   \n",
       "3042429                                PNC Bank N.A.    OH    440XX   \n",
       "2664713                  EARLY WARNING SERVICES, LLC    GA    30339   \n",
       "\n",
       "                       Tags Consumer consent provided? Submitted via  \\\n",
       "Complaint ID                                                           \n",
       "2832159       Servicemember           Consent provided           Web   \n",
       "3289312                 NaN           Consent provided           Web   \n",
       "3289315                 NaN           Consent provided           Web   \n",
       "3289306                 NaN           Consent provided           Web   \n",
       "3119480                 NaN           Consent provided           Web   \n",
       "...                     ...                        ...           ...   \n",
       "2851856                 NaN           Consent provided           Web   \n",
       "2851857                 NaN           Consent provided           Web   \n",
       "2477637                 NaN           Consent provided           Web   \n",
       "3042429                 NaN           Consent provided           Web   \n",
       "2664713       Servicemember           Consent provided           Web   \n",
       "\n",
       "             Date sent to company     Company response to consumer  \\\n",
       "Complaint ID                                                         \n",
       "2832159                03/03/2018          Closed with explanation   \n",
       "3289312                06/27/2019          Closed with explanation   \n",
       "3289315                06/27/2019          Closed with explanation   \n",
       "3289306                06/27/2019  Closed with non-monetary relief   \n",
       "3119480                01/09/2019          Closed with explanation   \n",
       "...                           ...                              ...   \n",
       "2851856                03/22/2018          Closed with explanation   \n",
       "2851857                03/22/2018          Closed with explanation   \n",
       "2477637                05/06/2017          Closed with explanation   \n",
       "3042429                10/10/2018          Closed with explanation   \n",
       "2664713                09/08/2017          Closed with explanation   \n",
       "\n",
       "             Timely response? Consumer disputed?   len  sentiment  \n",
       "Complaint ID                                                       \n",
       "2832159                   Yes                NaN  4894  -1.000017  \n",
       "3289312                   Yes                NaN   189  -1.000020  \n",
       "3289315                   Yes                NaN   189  -1.000020  \n",
       "3289306                   Yes                NaN   189  -1.000020  \n",
       "3119480                   Yes                NaN  2229  -1.000055  \n",
       "...                       ...                ...   ...        ...  \n",
       "2851856                   Yes                NaN   131  -1.460093  \n",
       "2851857                   Yes                NaN   131  -1.460093  \n",
       "2477637                   Yes                NaN   524  -1.466357  \n",
       "3042429                   Yes                NaN   829  -1.483220  \n",
       "2664713                   Yes                NaN  1482  -1.516031  \n",
       "\n",
       "[13347 rows x 19 columns]"
      ]
     },
     "execution_count": 244,
     "metadata": {},
     "output_type": "execute_result"
    }
   ],
   "source": [
    "df[df['sentiment'] < -1].sort_values('sentiment', ascending=False)"
   ]
  },
  {
   "cell_type": "code",
   "execution_count": 245,
   "metadata": {},
   "outputs": [
    {
     "data": {
      "text/plain": [
       "'mI have contacted Early Warning by phone and by mail and made them aware that they are continuing to report fraudulent information against me, and I have informed them that the accounts that they are reporting were as a result of identity theft. Early Warning has told me that they do not care that they will not stop reporting this information unless the banks themselves tell them to not report this fraudulent information. I tried to explain to Early Warning in Writing and by phone that this was fraudulent information and that these accounts were opened when my identity was compromised in 2010, but again they have told me they are not concerned. I have sent them requests to delete this fraudulent information by phone and by certified mail and they have ignored my requests. I have made them aware that they were defaming my character and they were ruining me financially by continuing to report these fraudulent accounts and they have again told me that they refused to stop reporting this fraudulent information.\\nThe fraudulent accounts they are reporting are the following : XXXX XXXX Routing Number XXXX  Account Number XXXX XXXX XXXX Routing Number XXXX Account Number XXXX XXXX XXXX Routing Number XXXX Account Number XXXX The above accounts were opened in my name using my correct personal information fraudulently and Early Warning refuses to do anything about it but to continue defaming my character by disseminating information they have been told was fraudulent.'"
      ]
     },
     "execution_count": 245,
     "metadata": {},
     "output_type": "execute_result"
    }
   ],
   "source": [
    "df.loc[2664713, 'Consumer complaint narrative']"
   ]
  },
  {
   "cell_type": "code",
   "execution_count": 256,
   "metadata": {},
   "outputs": [
    {
     "data": {
      "text/plain": [
       "Pipeline(memory=None,\n",
       "     steps=[('vectorizer', TfidfVectorizer(analyzer='word', binary=False, decode_error='strict',\n",
       "        dtype=<class 'numpy.int64'>, encoding='utf-8', input='content',\n",
       "        lowercase=True, max_df=0.5, max_features=None, min_df=5,\n",
       "        ngram_range=(1, 3), norm='l2', preprocessor=None, smooth_idf=Tr...caling=1.0, loss='epsilon_insensitive', max_iter=1000,\n",
       "     random_state=71, tol=0.001, verbose=0))])"
      ]
     },
     "execution_count": 256,
     "metadata": {},
     "output_type": "execute_result"
    }
   ],
   "source": [
    "pipe.fit(re['text'], re['sentiment_score'])"
   ]
  },
  {
   "cell_type": "code",
   "execution_count": 257,
   "metadata": {},
   "outputs": [],
   "source": [
    "df['sentiment'] = pipe.predict(df['Consumer complaint narrative'])"
   ]
  },
  {
   "cell_type": "code",
   "execution_count": 258,
   "metadata": {},
   "outputs": [
    {
     "data": {
      "text/plain": [
       "Index(['usage', 'sentiment', 'language', 'emotion', 'text', 'id', 'code',\n",
       "       'error', 'sentiment_label', 'sentiment_score', 'sadness', 'joy', 'fear',\n",
       "       'disgust', 'anger'],\n",
       "      dtype='object')"
      ]
     },
     "execution_count": 258,
     "metadata": {},
     "output_type": "execute_result"
    }
   ],
   "source": [
    "re.columns"
   ]
  },
  {
   "cell_type": "code",
   "execution_count": 259,
   "metadata": {},
   "outputs": [],
   "source": [
    "pipe.fit(re['text'], re['sadness'])\n",
    "df['sadness'] = pipe.predict(df['Consumer complaint narrative'])"
   ]
  },
  {
   "cell_type": "code",
   "execution_count": 260,
   "metadata": {},
   "outputs": [],
   "source": [
    "pipe.fit(re['text'], re['joy'])\n",
    "df['joy'] = pipe.predict(df['Consumer complaint narrative'])"
   ]
  },
  {
   "cell_type": "code",
   "execution_count": 261,
   "metadata": {},
   "outputs": [],
   "source": [
    "pipe.fit(re['text'], re['fear'])\n",
    "df['fear'] = pipe.predict(df['Consumer complaint narrative'])"
   ]
  },
  {
   "cell_type": "code",
   "execution_count": 262,
   "metadata": {},
   "outputs": [],
   "source": [
    "pipe.fit(re['text'], re['disgust'])\n",
    "df['disgust'] = pipe.predict(df['Consumer complaint narrative'])"
   ]
  },
  {
   "cell_type": "code",
   "execution_count": 263,
   "metadata": {},
   "outputs": [],
   "source": [
    "pipe.fit(re['text'], re['anger'])\n",
    "df['anger'] = pipe.predict(df['Consumer complaint narrative'])"
   ]
  },
  {
   "cell_type": "code",
   "execution_count": 266,
   "metadata": {},
   "outputs": [
    {
     "data": {
      "text/html": [
       "<div>\n",
       "<style scoped>\n",
       "    .dataframe tbody tr th:only-of-type {\n",
       "        vertical-align: middle;\n",
       "    }\n",
       "\n",
       "    .dataframe tbody tr th {\n",
       "        vertical-align: top;\n",
       "    }\n",
       "\n",
       "    .dataframe thead th {\n",
       "        text-align: right;\n",
       "    }\n",
       "</style>\n",
       "<table border=\"1\" class=\"dataframe\">\n",
       "  <thead>\n",
       "    <tr style=\"text-align: right;\">\n",
       "      <th></th>\n",
       "      <th>Date received</th>\n",
       "      <th>Product</th>\n",
       "      <th>Sub-product</th>\n",
       "      <th>Issue</th>\n",
       "      <th>Sub-issue</th>\n",
       "      <th>Consumer complaint narrative</th>\n",
       "      <th>Company public response</th>\n",
       "      <th>Company</th>\n",
       "      <th>State</th>\n",
       "      <th>ZIP code</th>\n",
       "      <th>...</th>\n",
       "      <th>Company response to consumer</th>\n",
       "      <th>Timely response?</th>\n",
       "      <th>Consumer disputed?</th>\n",
       "      <th>len</th>\n",
       "      <th>sentiment</th>\n",
       "      <th>sadness</th>\n",
       "      <th>joy</th>\n",
       "      <th>fear</th>\n",
       "      <th>disgust</th>\n",
       "      <th>anger</th>\n",
       "    </tr>\n",
       "    <tr>\n",
       "      <th>Complaint ID</th>\n",
       "      <th></th>\n",
       "      <th></th>\n",
       "      <th></th>\n",
       "      <th></th>\n",
       "      <th></th>\n",
       "      <th></th>\n",
       "      <th></th>\n",
       "      <th></th>\n",
       "      <th></th>\n",
       "      <th></th>\n",
       "      <th></th>\n",
       "      <th></th>\n",
       "      <th></th>\n",
       "      <th></th>\n",
       "      <th></th>\n",
       "      <th></th>\n",
       "      <th></th>\n",
       "      <th></th>\n",
       "      <th></th>\n",
       "      <th></th>\n",
       "      <th></th>\n",
       "    </tr>\n",
       "  </thead>\n",
       "  <tbody>\n",
       "    <tr>\n",
       "      <th>3390310</th>\n",
       "      <td>09/30/2019</td>\n",
       "      <td>Payday loan, title loan, or personal loan</td>\n",
       "      <td>Payday loan</td>\n",
       "      <td>Can't contact lender or servicer</td>\n",
       "      <td>NaN</td>\n",
       "      <td>In XX/XX/XXXX, I foolishly took out a loan wit...</td>\n",
       "      <td>Company has responded to the consumer and the ...</td>\n",
       "      <td>KMD Partners, LLC d/b/a CreditNinja</td>\n",
       "      <td>SC</td>\n",
       "      <td>NaN</td>\n",
       "      <td>...</td>\n",
       "      <td>Closed with explanation</td>\n",
       "      <td>Yes</td>\n",
       "      <td>NaN</td>\n",
       "      <td>6733</td>\n",
       "      <td>-0.346863</td>\n",
       "      <td>0.159854</td>\n",
       "      <td>0.350610</td>\n",
       "      <td>0.092341</td>\n",
       "      <td>0.019137</td>\n",
       "      <td>-0.051623</td>\n",
       "    </tr>\n",
       "    <tr>\n",
       "      <th>3363541</th>\n",
       "      <td>09/04/2019</td>\n",
       "      <td>Debt collection</td>\n",
       "      <td>Medical debt</td>\n",
       "      <td>Written notification about debt</td>\n",
       "      <td>Notification didn't disclose it was an attempt...</td>\n",
       "      <td>I received a letter from Fox Collection Compan...</td>\n",
       "      <td>Company believes it acted appropriately as aut...</td>\n",
       "      <td>Professional Recovery Management</td>\n",
       "      <td>TN</td>\n",
       "      <td>371XX</td>\n",
       "      <td>...</td>\n",
       "      <td>Closed with explanation</td>\n",
       "      <td>Yes</td>\n",
       "      <td>NaN</td>\n",
       "      <td>7640</td>\n",
       "      <td>-0.638231</td>\n",
       "      <td>0.579275</td>\n",
       "      <td>0.242037</td>\n",
       "      <td>0.275806</td>\n",
       "      <td>0.167678</td>\n",
       "      <td>-0.017374</td>\n",
       "    </tr>\n",
       "    <tr>\n",
       "      <th>3353296</th>\n",
       "      <td>08/25/2019</td>\n",
       "      <td>Credit reporting, credit repair services, or o...</td>\n",
       "      <td>Credit reporting</td>\n",
       "      <td>Incorrect information on your report</td>\n",
       "      <td>Information belongs to someone else</td>\n",
       "      <td>Multiple accounts are reporting on my credit r...</td>\n",
       "      <td>Company has responded to the consumer and the ...</td>\n",
       "      <td>TRANSUNION INTERMEDIATE HOLDINGS, INC.</td>\n",
       "      <td>FL</td>\n",
       "      <td>334XX</td>\n",
       "      <td>...</td>\n",
       "      <td>Closed with explanation</td>\n",
       "      <td>Yes</td>\n",
       "      <td>NaN</td>\n",
       "      <td>111</td>\n",
       "      <td>-0.656686</td>\n",
       "      <td>0.104103</td>\n",
       "      <td>0.032597</td>\n",
       "      <td>0.046659</td>\n",
       "      <td>0.010033</td>\n",
       "      <td>-0.017740</td>\n",
       "    </tr>\n",
       "    <tr>\n",
       "      <th>3348037</th>\n",
       "      <td>08/20/2019</td>\n",
       "      <td>Student loan</td>\n",
       "      <td>Federal student loan servicing</td>\n",
       "      <td>Struggling to repay your loan</td>\n",
       "      <td>Problem lowering your monthly payments</td>\n",
       "      <td>I would like to bring to your attention an ong...</td>\n",
       "      <td>NaN</td>\n",
       "      <td>AES/PHEAA</td>\n",
       "      <td>NY</td>\n",
       "      <td>100XX</td>\n",
       "      <td>...</td>\n",
       "      <td>Closed with explanation</td>\n",
       "      <td>Yes</td>\n",
       "      <td>NaN</td>\n",
       "      <td>8161</td>\n",
       "      <td>-0.379905</td>\n",
       "      <td>0.339362</td>\n",
       "      <td>0.344731</td>\n",
       "      <td>0.059565</td>\n",
       "      <td>0.179120</td>\n",
       "      <td>-0.132334</td>\n",
       "    </tr>\n",
       "    <tr>\n",
       "      <th>3339125</th>\n",
       "      <td>08/13/2019</td>\n",
       "      <td>Credit card or prepaid card</td>\n",
       "      <td>Store credit card</td>\n",
       "      <td>Advertising and marketing, including promotion...</td>\n",
       "      <td>Confusing or misleading advertising about the ...</td>\n",
       "      <td>I am writing this at XXXX am due to the inabil...</td>\n",
       "      <td>Company has responded to the consumer and the ...</td>\n",
       "      <td>SYNCHRONY FINANCIAL</td>\n",
       "      <td>MO</td>\n",
       "      <td>NaN</td>\n",
       "      <td>...</td>\n",
       "      <td>Closed with explanation</td>\n",
       "      <td>Yes</td>\n",
       "      <td>NaN</td>\n",
       "      <td>9134</td>\n",
       "      <td>-0.896103</td>\n",
       "      <td>0.301088</td>\n",
       "      <td>0.229386</td>\n",
       "      <td>0.128981</td>\n",
       "      <td>-0.116993</td>\n",
       "      <td>-0.079462</td>\n",
       "    </tr>\n",
       "    <tr>\n",
       "      <th>...</th>\n",
       "      <td>...</td>\n",
       "      <td>...</td>\n",
       "      <td>...</td>\n",
       "      <td>...</td>\n",
       "      <td>...</td>\n",
       "      <td>...</td>\n",
       "      <td>...</td>\n",
       "      <td>...</td>\n",
       "      <td>...</td>\n",
       "      <td>...</td>\n",
       "      <td>...</td>\n",
       "      <td>...</td>\n",
       "      <td>...</td>\n",
       "      <td>...</td>\n",
       "      <td>...</td>\n",
       "      <td>...</td>\n",
       "      <td>...</td>\n",
       "      <td>...</td>\n",
       "      <td>...</td>\n",
       "      <td>...</td>\n",
       "      <td>...</td>\n",
       "    </tr>\n",
       "    <tr>\n",
       "      <th>1290733</th>\n",
       "      <td>03/19/2015</td>\n",
       "      <td>Debt collection</td>\n",
       "      <td>I do not know</td>\n",
       "      <td>Communication tactics</td>\n",
       "      <td>Frequent or repeated calls</td>\n",
       "      <td>Continued robot calls. Will not give me addres...</td>\n",
       "      <td>Company believes it acted appropriately as aut...</td>\n",
       "      <td>Receivables Performance Management, LLC</td>\n",
       "      <td>PA</td>\n",
       "      <td>174XX</td>\n",
       "      <td>...</td>\n",
       "      <td>Closed with explanation</td>\n",
       "      <td>Yes</td>\n",
       "      <td>No</td>\n",
       "      <td>447</td>\n",
       "      <td>-0.147835</td>\n",
       "      <td>0.380060</td>\n",
       "      <td>0.283662</td>\n",
       "      <td>0.070339</td>\n",
       "      <td>0.018003</td>\n",
       "      <td>-0.035321</td>\n",
       "    </tr>\n",
       "    <tr>\n",
       "      <th>1290538</th>\n",
       "      <td>03/19/2015</td>\n",
       "      <td>Debt collection</td>\n",
       "      <td>I do not know</td>\n",
       "      <td>Cont'd attempts collect debt not owed</td>\n",
       "      <td>Debt is not mine</td>\n",
       "      <td>XXXX sent me a letter stating I owed over {$32...</td>\n",
       "      <td>NaN</td>\n",
       "      <td>SYNCHRONY FINANCIAL</td>\n",
       "      <td>MI</td>\n",
       "      <td>NaN</td>\n",
       "      <td>...</td>\n",
       "      <td>Closed with non-monetary relief</td>\n",
       "      <td>Yes</td>\n",
       "      <td>No</td>\n",
       "      <td>969</td>\n",
       "      <td>-0.785652</td>\n",
       "      <td>0.711276</td>\n",
       "      <td>0.342997</td>\n",
       "      <td>0.268609</td>\n",
       "      <td>0.166660</td>\n",
       "      <td>-0.014567</td>\n",
       "    </tr>\n",
       "    <tr>\n",
       "      <th>1290262</th>\n",
       "      <td>03/19/2015</td>\n",
       "      <td>Mortgage</td>\n",
       "      <td>Conventional fixed mortgage</td>\n",
       "      <td>Loan modification,collection,foreclosure</td>\n",
       "      <td>NaN</td>\n",
       "      <td>I am a homeownership advisor with XXXX XXXX. O...</td>\n",
       "      <td>NaN</td>\n",
       "      <td>Specialized Loan Servicing LLC</td>\n",
       "      <td>OR</td>\n",
       "      <td>972XX</td>\n",
       "      <td>...</td>\n",
       "      <td>Closed with explanation</td>\n",
       "      <td>Yes</td>\n",
       "      <td>No</td>\n",
       "      <td>196</td>\n",
       "      <td>-0.776213</td>\n",
       "      <td>0.410708</td>\n",
       "      <td>0.271322</td>\n",
       "      <td>-0.015657</td>\n",
       "      <td>0.022722</td>\n",
       "      <td>-0.082830</td>\n",
       "    </tr>\n",
       "    <tr>\n",
       "      <th>1292049</th>\n",
       "      <td>03/19/2015</td>\n",
       "      <td>Mortgage</td>\n",
       "      <td>Conventional fixed mortgage</td>\n",
       "      <td>Loan servicing, payments, escrow account</td>\n",
       "      <td>NaN</td>\n",
       "      <td>calls all day long every day</td>\n",
       "      <td>NaN</td>\n",
       "      <td>WELLS FARGO &amp; COMPANY</td>\n",
       "      <td>FL</td>\n",
       "      <td>NaN</td>\n",
       "      <td>...</td>\n",
       "      <td>Closed with explanation</td>\n",
       "      <td>Yes</td>\n",
       "      <td>No</td>\n",
       "      <td>28</td>\n",
       "      <td>-0.140386</td>\n",
       "      <td>0.432994</td>\n",
       "      <td>0.143802</td>\n",
       "      <td>0.136185</td>\n",
       "      <td>0.027191</td>\n",
       "      <td>-0.022392</td>\n",
       "    </tr>\n",
       "    <tr>\n",
       "      <th>1290524</th>\n",
       "      <td>03/19/2015</td>\n",
       "      <td>Mortgage</td>\n",
       "      <td>Conventional fixed mortgage</td>\n",
       "      <td>Loan modification,collection,foreclosure</td>\n",
       "      <td>NaN</td>\n",
       "      <td>In XX/XX/XXXX my wages that I earned at my job...</td>\n",
       "      <td>NaN</td>\n",
       "      <td>WELLS FARGO &amp; COMPANY</td>\n",
       "      <td>CA</td>\n",
       "      <td>946XX</td>\n",
       "      <td>...</td>\n",
       "      <td>Closed with explanation</td>\n",
       "      <td>Yes</td>\n",
       "      <td>Yes</td>\n",
       "      <td>3548</td>\n",
       "      <td>-0.656001</td>\n",
       "      <td>0.510701</td>\n",
       "      <td>0.225167</td>\n",
       "      <td>0.180383</td>\n",
       "      <td>0.057101</td>\n",
       "      <td>-0.020241</td>\n",
       "    </tr>\n",
       "  </tbody>\n",
       "</table>\n",
       "<p>10884 rows × 24 columns</p>\n",
       "</div>"
      ],
      "text/plain": [
       "             Date received                                            Product  \\\n",
       "Complaint ID                                                                    \n",
       "3390310         09/30/2019          Payday loan, title loan, or personal loan   \n",
       "3363541         09/04/2019                                    Debt collection   \n",
       "3353296         08/25/2019  Credit reporting, credit repair services, or o...   \n",
       "3348037         08/20/2019                                       Student loan   \n",
       "3339125         08/13/2019                        Credit card or prepaid card   \n",
       "...                    ...                                                ...   \n",
       "1290733         03/19/2015                                    Debt collection   \n",
       "1290538         03/19/2015                                    Debt collection   \n",
       "1290262         03/19/2015                                           Mortgage   \n",
       "1292049         03/19/2015                                           Mortgage   \n",
       "1290524         03/19/2015                                           Mortgage   \n",
       "\n",
       "                                 Sub-product  \\\n",
       "Complaint ID                                   \n",
       "3390310                          Payday loan   \n",
       "3363541                         Medical debt   \n",
       "3353296                     Credit reporting   \n",
       "3348037       Federal student loan servicing   \n",
       "3339125                    Store credit card   \n",
       "...                                      ...   \n",
       "1290733                        I do not know   \n",
       "1290538                        I do not know   \n",
       "1290262          Conventional fixed mortgage   \n",
       "1292049          Conventional fixed mortgage   \n",
       "1290524          Conventional fixed mortgage   \n",
       "\n",
       "                                                          Issue  \\\n",
       "Complaint ID                                                      \n",
       "3390310                        Can't contact lender or servicer   \n",
       "3363541                         Written notification about debt   \n",
       "3353296                    Incorrect information on your report   \n",
       "3348037                           Struggling to repay your loan   \n",
       "3339125       Advertising and marketing, including promotion...   \n",
       "...                                                         ...   \n",
       "1290733                                   Communication tactics   \n",
       "1290538                   Cont'd attempts collect debt not owed   \n",
       "1290262                Loan modification,collection,foreclosure   \n",
       "1292049                Loan servicing, payments, escrow account   \n",
       "1290524                Loan modification,collection,foreclosure   \n",
       "\n",
       "                                                      Sub-issue  \\\n",
       "Complaint ID                                                      \n",
       "3390310                                                     NaN   \n",
       "3363541       Notification didn't disclose it was an attempt...   \n",
       "3353296                     Information belongs to someone else   \n",
       "3348037                  Problem lowering your monthly payments   \n",
       "3339125       Confusing or misleading advertising about the ...   \n",
       "...                                                         ...   \n",
       "1290733                              Frequent or repeated calls   \n",
       "1290538                                        Debt is not mine   \n",
       "1290262                                                     NaN   \n",
       "1292049                                                     NaN   \n",
       "1290524                                                     NaN   \n",
       "\n",
       "                                   Consumer complaint narrative  \\\n",
       "Complaint ID                                                      \n",
       "3390310       In XX/XX/XXXX, I foolishly took out a loan wit...   \n",
       "3363541       I received a letter from Fox Collection Compan...   \n",
       "3353296       Multiple accounts are reporting on my credit r...   \n",
       "3348037       I would like to bring to your attention an ong...   \n",
       "3339125       I am writing this at XXXX am due to the inabil...   \n",
       "...                                                         ...   \n",
       "1290733       Continued robot calls. Will not give me addres...   \n",
       "1290538       XXXX sent me a letter stating I owed over {$32...   \n",
       "1290262       I am a homeownership advisor with XXXX XXXX. O...   \n",
       "1292049                            calls all day long every day   \n",
       "1290524       In XX/XX/XXXX my wages that I earned at my job...   \n",
       "\n",
       "                                        Company public response  \\\n",
       "Complaint ID                                                      \n",
       "3390310       Company has responded to the consumer and the ...   \n",
       "3363541       Company believes it acted appropriately as aut...   \n",
       "3353296       Company has responded to the consumer and the ...   \n",
       "3348037                                                     NaN   \n",
       "3339125       Company has responded to the consumer and the ...   \n",
       "...                                                         ...   \n",
       "1290733       Company believes it acted appropriately as aut...   \n",
       "1290538                                                     NaN   \n",
       "1290262                                                     NaN   \n",
       "1292049                                                     NaN   \n",
       "1290524                                                     NaN   \n",
       "\n",
       "                                              Company State ZIP code  ...  \\\n",
       "Complaint ID                                                          ...   \n",
       "3390310           KMD Partners, LLC d/b/a CreditNinja    SC      NaN  ...   \n",
       "3363541              Professional Recovery Management    TN    371XX  ...   \n",
       "3353296        TRANSUNION INTERMEDIATE HOLDINGS, INC.    FL    334XX  ...   \n",
       "3348037                                     AES/PHEAA    NY    100XX  ...   \n",
       "3339125                           SYNCHRONY FINANCIAL    MO      NaN  ...   \n",
       "...                                               ...   ...      ...  ...   \n",
       "1290733       Receivables Performance Management, LLC    PA    174XX  ...   \n",
       "1290538                           SYNCHRONY FINANCIAL    MI      NaN  ...   \n",
       "1290262                Specialized Loan Servicing LLC    OR    972XX  ...   \n",
       "1292049                         WELLS FARGO & COMPANY    FL      NaN  ...   \n",
       "1290524                         WELLS FARGO & COMPANY    CA    946XX  ...   \n",
       "\n",
       "                 Company response to consumer Timely response?  \\\n",
       "Complaint ID                                                     \n",
       "3390310               Closed with explanation              Yes   \n",
       "3363541               Closed with explanation              Yes   \n",
       "3353296               Closed with explanation              Yes   \n",
       "3348037               Closed with explanation              Yes   \n",
       "3339125               Closed with explanation              Yes   \n",
       "...                                       ...              ...   \n",
       "1290733               Closed with explanation              Yes   \n",
       "1290538       Closed with non-monetary relief              Yes   \n",
       "1290262               Closed with explanation              Yes   \n",
       "1292049               Closed with explanation              Yes   \n",
       "1290524               Closed with explanation              Yes   \n",
       "\n",
       "             Consumer disputed?   len sentiment   sadness       joy      fear  \\\n",
       "Complaint ID                                                                    \n",
       "3390310                     NaN  6733 -0.346863  0.159854  0.350610  0.092341   \n",
       "3363541                     NaN  7640 -0.638231  0.579275  0.242037  0.275806   \n",
       "3353296                     NaN   111 -0.656686  0.104103  0.032597  0.046659   \n",
       "3348037                     NaN  8161 -0.379905  0.339362  0.344731  0.059565   \n",
       "3339125                     NaN  9134 -0.896103  0.301088  0.229386  0.128981   \n",
       "...                         ...   ...       ...       ...       ...       ...   \n",
       "1290733                      No   447 -0.147835  0.380060  0.283662  0.070339   \n",
       "1290538                      No   969 -0.785652  0.711276  0.342997  0.268609   \n",
       "1290262                      No   196 -0.776213  0.410708  0.271322 -0.015657   \n",
       "1292049                      No    28 -0.140386  0.432994  0.143802  0.136185   \n",
       "1290524                     Yes  3548 -0.656001  0.510701  0.225167  0.180383   \n",
       "\n",
       "               disgust     anger  \n",
       "Complaint ID                      \n",
       "3390310       0.019137 -0.051623  \n",
       "3363541       0.167678 -0.017374  \n",
       "3353296       0.010033 -0.017740  \n",
       "3348037       0.179120 -0.132334  \n",
       "3339125      -0.116993 -0.079462  \n",
       "...                ...       ...  \n",
       "1290733       0.018003 -0.035321  \n",
       "1290538       0.166660 -0.014567  \n",
       "1290262       0.022722 -0.082830  \n",
       "1292049       0.027191 -0.022392  \n",
       "1290524       0.057101 -0.020241  \n",
       "\n",
       "[10884 rows x 24 columns]"
      ]
     },
     "execution_count": 266,
     "metadata": {},
     "output_type": "execute_result"
    }
   ],
   "source": [
    "df[df['anger'] < 0]"
   ]
  },
  {
   "cell_type": "code",
   "execution_count": 280,
   "metadata": {},
   "outputs": [],
   "source": [
    "top_30 = list(df.groupby('Company').size().sort_values(ascending=False).head(30).index)"
   ]
  },
  {
   "cell_type": "code",
   "execution_count": 289,
   "metadata": {},
   "outputs": [
    {
     "data": {
      "text/plain": [
       "<matplotlib.axes._subplots.AxesSubplot at 0x13f4c08d0>"
      ]
     },
     "execution_count": 289,
     "metadata": {},
     "output_type": "execute_result"
    },
    {
     "data": {
      "image/png": "[encoded data removed]",
      "text/plain": [
       "<Figure size 720x1440 with 1 Axes>"
      ]
     },
     "metadata": {
      "needs_background": "light"
     },
     "output_type": "display_data"
    }
   ],
   "source": [
    "import numpy as np\n",
    "\n",
    "df[df['Company'].isin(top_30)].groupby('Company').agg({'anger' : lambda x: np.abs(np.mean(x))}).sort_values('anger', ascending=True).plot(kind='barh', figsize=(10, 20))"
   ]
  },
  {
   "cell_type": "code",
   "execution_count": null,
   "metadata": {},
   "outputs": [],
   "source": []
  }
 ],
 "metadata": {
  "kernelspec": {
   "display_name": "WF",
   "language": "python",
   "name": "wf"
  }
 },
 "nbformat": 4,
 "nbformat_minor": 2
}
